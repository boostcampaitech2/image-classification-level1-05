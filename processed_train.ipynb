{
 "cells": [
  {
   "cell_type": "code",
   "execution_count": 1,
   "source": [
    "import pandas as pd\n",
    "import numpy as np"
   ],
   "outputs": [],
   "metadata": {}
  },
  {
   "cell_type": "code",
   "execution_count": 11,
   "source": [
    "train_df = pd.read_csv('processed_train.csv', header=0)"
   ],
   "outputs": [],
   "metadata": {}
  },
  {
   "cell_type": "markdown",
   "source": [
    "<br><br>\n",
    "## 경로 및 라벨 추출\n",
    "---"
   ],
   "metadata": {}
  },
  {
   "cell_type": "code",
   "execution_count": 3,
   "source": [
    "paths = train_df['FullPath']\n",
    "labels = train_df['Class']\n",
    "\n",
    "print(f\"label, path example: \\nlabel: {labels[0]}\\npath: {paths[0]}\")"
   ],
   "outputs": [
    {
     "output_type": "stream",
     "name": "stdout",
     "text": [
      "label, path example: \n",
      "label: 4\n",
      "path: /opt/ml/input/data/train/images/000001_female_Asian_45/mask1.jpg\n"
     ]
    }
   ],
   "metadata": {}
  },
  {
   "cell_type": "markdown",
   "source": [
    "<br><br>\n",
    "## 경로 변경\n",
    "---\n",
    "- 훈련 데이터의 이미지 폴더가 /opt/ml/input/data/train/images가 아닌 경우"
   ],
   "metadata": {}
  },
  {
   "cell_type": "code",
   "execution_count": 4,
   "source": [
    "from pathlib import Path"
   ],
   "outputs": [],
   "metadata": {}
  },
  {
   "cell_type": "code",
   "execution_count": 6,
   "source": [
    "def update_full_path(train_df, dir_images):\n",
    "    train_df = train_df.copy()\n",
    "    \n",
    "    train_df['FullPath'] = str(Path(dir_images)) + '/'\n",
    "    train_df['FullPath'] = train_df['FullPath'].str.cat(train_df['Path'])\n",
    "\n",
    "    return train_df\n",
    "\n",
    "dir_images = 'C://user/images'\n",
    "train_df_updated = update_full_path(train_df, dir_images)"
   ],
   "outputs": [],
   "metadata": {}
  },
  {
   "cell_type": "code",
   "execution_count": 7,
   "source": [
    "paths = train_df_updated['FullPath']\n",
    "labels = train_df_updated['Class']\n",
    "\n",
    "print(f\"label, path example: \\nlabel: {labels[0]}\\npath: {paths[0]}\")"
   ],
   "outputs": [
    {
     "output_type": "stream",
     "name": "stdout",
     "text": [
      "label, path example: \n",
      "label: 4\n",
      "path: C:/user/images/000001_female_Asian_45/mask1.jpg\n"
     ]
    }
   ],
   "metadata": {}
  },
  {
   "cell_type": "markdown",
   "source": [
    "<br><br>\n",
    "## 칼럼\n",
    "---\n",
    "* 기본 데이터\n",
    "    * 원본 데이터(from train.csv)\n",
    "        * gender\n",
    "        * race\n",
    "        * age\n",
    "        * path\n",
    "    * 파일명\n",
    "        * file - path 내의 파일이름(확장자 포함)\n",
    "* 추가 데이터\n",
    "    * Path - 이미지파일 폴더 및 이미지파일 경로(ex. 000002_female_Asian_52/mask.jpg) \n",
    "    * FullPath - 이미지 파일 full path\n",
    "    * Mask \n",
    "    * Age \n",
    "    * Gender\n",
    "    * Class (Competition 18개 class) \n",
    "    * ClassMask (Mask 독립 class)\n",
    "    * ClassGender (Gender 독립 class)\n",
    "    * ClassAge (Age 독립 Class)"
   ],
   "metadata": {}
  },
  {
   "cell_type": "code",
   "execution_count": 13,
   "source": [
    "train_df.columns"
   ],
   "outputs": [
    {
     "output_type": "execute_result",
     "data": {
      "text/plain": [
       "Index(['id', 'gender', 'race', 'age', 'path', 'file', 'FullPath', 'Path',\n",
       "       'Mask', 'Age', 'Gender', 'Class', 'ClassMask', 'ClassGender',\n",
       "       'ClassAge'],\n",
       "      dtype='object')"
      ]
     },
     "metadata": {},
     "execution_count": 13
    }
   ],
   "metadata": {}
  },
  {
   "cell_type": "code",
   "execution_count": 14,
   "source": [
    "train_df[['Mask', 'Age', 'Gender', 'Class', 'ClassMask', 'ClassGender', 'ClassAge']].head(5)"
   ],
   "outputs": [
    {
     "output_type": "execute_result",
     "data": {
      "text/plain": [
       "   Mask             Age  Gender  Class  ClassMask  ClassGender  ClassAge\n",
       "0  Wear  >= 30 and < 60  Female      4          0            1         1\n",
       "1  Wear  >= 30 and < 60  Female      4          0            1         1\n",
       "2  Wear  >= 30 and < 60  Female      4          0            1         1\n",
       "3  Wear  >= 30 and < 60  Female      4          0            1         1\n",
       "4  Wear  >= 30 and < 60  Female      4          0            1         1"
      ],
      "text/html": [
       "<div>\n",
       "<style scoped>\n",
       "    .dataframe tbody tr th:only-of-type {\n",
       "        vertical-align: middle;\n",
       "    }\n",
       "\n",
       "    .dataframe tbody tr th {\n",
       "        vertical-align: top;\n",
       "    }\n",
       "\n",
       "    .dataframe thead th {\n",
       "        text-align: right;\n",
       "    }\n",
       "</style>\n",
       "<table border=\"1\" class=\"dataframe\">\n",
       "  <thead>\n",
       "    <tr style=\"text-align: right;\">\n",
       "      <th></th>\n",
       "      <th>Mask</th>\n",
       "      <th>Age</th>\n",
       "      <th>Gender</th>\n",
       "      <th>Class</th>\n",
       "      <th>ClassMask</th>\n",
       "      <th>ClassGender</th>\n",
       "      <th>ClassAge</th>\n",
       "    </tr>\n",
       "  </thead>\n",
       "  <tbody>\n",
       "    <tr>\n",
       "      <th>0</th>\n",
       "      <td>Wear</td>\n",
       "      <td>&gt;= 30 and &lt; 60</td>\n",
       "      <td>Female</td>\n",
       "      <td>4</td>\n",
       "      <td>0</td>\n",
       "      <td>1</td>\n",
       "      <td>1</td>\n",
       "    </tr>\n",
       "    <tr>\n",
       "      <th>1</th>\n",
       "      <td>Wear</td>\n",
       "      <td>&gt;= 30 and &lt; 60</td>\n",
       "      <td>Female</td>\n",
       "      <td>4</td>\n",
       "      <td>0</td>\n",
       "      <td>1</td>\n",
       "      <td>1</td>\n",
       "    </tr>\n",
       "    <tr>\n",
       "      <th>2</th>\n",
       "      <td>Wear</td>\n",
       "      <td>&gt;= 30 and &lt; 60</td>\n",
       "      <td>Female</td>\n",
       "      <td>4</td>\n",
       "      <td>0</td>\n",
       "      <td>1</td>\n",
       "      <td>1</td>\n",
       "    </tr>\n",
       "    <tr>\n",
       "      <th>3</th>\n",
       "      <td>Wear</td>\n",
       "      <td>&gt;= 30 and &lt; 60</td>\n",
       "      <td>Female</td>\n",
       "      <td>4</td>\n",
       "      <td>0</td>\n",
       "      <td>1</td>\n",
       "      <td>1</td>\n",
       "    </tr>\n",
       "    <tr>\n",
       "      <th>4</th>\n",
       "      <td>Wear</td>\n",
       "      <td>&gt;= 30 and &lt; 60</td>\n",
       "      <td>Female</td>\n",
       "      <td>4</td>\n",
       "      <td>0</td>\n",
       "      <td>1</td>\n",
       "      <td>1</td>\n",
       "    </tr>\n",
       "  </tbody>\n",
       "</table>\n",
       "</div>"
      ]
     },
     "metadata": {},
     "execution_count": 14
    }
   ],
   "metadata": {}
  },
  {
   "cell_type": "markdown",
   "source": [
    "<br><br>\n",
    "## Label 변경\n",
    "---"
   ],
   "metadata": {}
  },
  {
   "cell_type": "code",
   "execution_count": 22,
   "source": [
    "\"\"\"\n",
    "ClassAge 예시\n",
    "    변경 전\n",
    "        < 30 : 0\n",
    "        >= 30 and < 60 : 1\n",
    "        >= 60 : 2\n",
    "    변경 후 \n",
    "        < 20 : 0\n",
    "        >= 20 and < 40 : 1\n",
    "        >= 40 and < 60 : 2\n",
    "        >= 60 : 3\n",
    "\"\"\"\n",
    "label_0 = train_df['age'] < 20\n",
    "label_1 = (train_df['age'] >= 20) & (train_df['age'] < 40)\n",
    "label_2 = (train_df['age'] >= 40) & (train_df['age'] < 60)\n",
    "label_3 = train_df['age'] >= 60\n",
    "\n",
    "train_df.loc[label_0, 'ClassAge'] = 0\n",
    "train_df.loc[label_1, 'ClassAge'] = 1\n",
    "train_df.loc[label_2, 'ClassAge'] = 2\n",
    "train_df.loc[label_3, 'ClassAge'] = 3"
   ],
   "outputs": [],
   "metadata": {}
  },
  {
   "cell_type": "code",
   "execution_count": 29,
   "source": [
    "\"\"\"\n",
    "변경된 ClassAge 반영하여 전체 Class 업데이트(필요한 경우)\n",
    "\"\"\"\n",
    "num_age_labels = train_df['ClassAge'].unique().size\n",
    "num_gender_labels = train_df['ClassGender'].unique().size\n",
    "num_mask_labels = train_df['ClassMask'].unique().size\n",
    "\n",
    "train_df['Class'] = train_df['ClassAge'] + \\\n",
    "                    num_age_labels*train_df['ClassGender'] + \\\n",
    "                    (num_age_labels*num_gender_labels)*train_df['ClassMask']\n"
   ],
   "outputs": [],
   "metadata": {}
  },
  {
   "cell_type": "code",
   "execution_count": 30,
   "source": [
    "train_df['Class'].unique().size # 3 x 2 x 4 = 24"
   ],
   "outputs": [
    {
     "output_type": "execute_result",
     "data": {
      "text/plain": [
       "24"
      ]
     },
     "metadata": {},
     "execution_count": 30
    }
   ],
   "metadata": {}
  }
 ],
 "metadata": {
  "orig_nbformat": 4,
  "language_info": {
   "name": "python",
   "version": "3.8.5",
   "mimetype": "text/x-python",
   "codemirror_mode": {
    "name": "ipython",
    "version": 3
   },
   "pygments_lexer": "ipython3",
   "nbconvert_exporter": "python",
   "file_extension": ".py"
  },
  "kernelspec": {
   "name": "python3",
   "display_name": "Python 3.8.5 64-bit ('base': conda)"
  },
  "interpreter": {
   "hash": "98b0a9b7b4eaaa670588a142fd0a9b87eaafe866f1db4228be72b4211d12040f"
  }
 },
 "nbformat": 4,
 "nbformat_minor": 2
}