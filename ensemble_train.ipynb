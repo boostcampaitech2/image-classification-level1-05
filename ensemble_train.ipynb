{
 "cells": [
  {
   "cell_type": "markdown",
   "source": [
    "# General Settings\n",
    "---"
   ],
   "metadata": {}
  },
  {
   "cell_type": "markdown",
   "source": [
    "## Import Libs\n",
    "---"
   ],
   "metadata": {}
  },
  {
   "cell_type": "code",
   "execution_count": 1,
   "source": [
    "# System Libs\n",
    "import multiprocessing as mp\n",
    "import sys\n",
    "import os\n",
    "import argparse\n",
    "import json\n",
    "from importlib import import_module\n",
    "from pathlib import Path\n",
    "from glob import glob\n",
    "from time import time\n",
    "\n",
    "# Other Libs\n",
    "import pandas as pd\n",
    "import numpy as np\n",
    "import matplotlib.pyplot as plt\n",
    "import seaborn as sns\n",
    "import cv2\n",
    "from sklearn.metrics import f1_score\n",
    "from PIL import Image\n",
    "from tqdm import tqdm\n",
    "from sklearn.metrics import f1_score\n",
    "import wandb\n",
    "\n",
    "# Torch\n",
    "import torch\n",
    "import torch.nn as nn\n",
    "import torch.nn.functional as F\n",
    "from torch import optim\n",
    "from torch.optim.lr_scheduler import StepLR\n",
    "from torch.utils.data import Dataset, DataLoader\n",
    "from torch.utils.tensorboard import SummaryWriter\n",
    "from torchvision import models\n",
    "from torchvision import transforms\n",
    "from torchvision.transforms import CenterCrop, Resize, ToTensor, Normalize\n",
    "device = (\"cuda\" if torch.cuda.is_available() else \"cpu\")\n",
    "print(device)\n",
    "\n",
    "# Local Libs\n",
    "from dataset import TrainInfo, MaskBaseDataset, TestDataset\n",
    "from model import BaseModel, ResNet18Pretrained\n",
    "from loss import get_criterion\n",
    "import settings\n",
    "import logger\n",
    "\n",
    "# from IPython.core.interactiveshell import InteractiveShell\n",
    "# InteractiveShell.ast_node_interactivity = \"all\"\n",
    "import warnings\n",
    "warnings.filterwarnings(action='ignore')"
   ],
   "outputs": [
    {
     "output_type": "stream",
     "name": "stdout",
     "text": [
      "cuda\n"
     ]
    }
   ],
   "metadata": {}
  },
  {
   "cell_type": "code",
   "execution_count": 2,
   "source": [
    "# Argument\n",
    "parser = argparse.ArgumentParser()\n",
    "\n",
    "parser.add_argument('--transform', type=str, default=('BaseTransform', 'BaseTransform'), help='data transform type (default: (\"BaseTransform\", \"CustomTransform\"))')\n",
    "parser.add_argument(\"--resize\", nargs=\"+\", type=list, default=(300, 200), help='resize size for image when training (default: (128, 96))')\n",
    "\n",
    "parser.add_argument('--data_dir', type=str, default=os.environ.get('SM_CHANNEL_TRAIN', '/opt/ml/input/data/train/images'))\n",
    "parser.add_argument('--model_dir', type=str, default=os.environ.get('SM_MODEL_DIR', './model'))\n",
    "parser.add_argument('--seed', type=int, default=42, help='random seed (default: 42)')\n",
    "parser.add_argument('--epochs', type=int, default=10, help='number of epochs to train (default: 20)')\n",
    "parser.add_argument('--dataset', type=str, default='MaskBaseDataset', help='dataset transform type (default: MaskBaseDataset)')\n",
    "parser.add_argument('--batch_size', type=int, default=64, help='input batch size for training (default: 128)')\n",
    "parser.add_argument('--val_batch_size', type=int, default=10, help='input batch size for validation (default: 1000)')\n",
    "parser.add_argument('--model', type=str, default='ResNet18Pretrained', help='model type (default: ResNet18Pretrained)')\n",
    "parser.add_argument('--optimizer', type=str, default='Adam', help='optimizer type (default: Adam)')\n",
    "parser.add_argument('--lr', type=float, default=1e-3, help='learning rate (default: 1e-4)')\n",
    "parser.add_argument('--val_ratio', type=float, default=0.2, help='ratio for validaton (default: 0.2)')\n",
    "parser.add_argument('--criterion', type=str, default='cross_entropy', help='criterion type (default: cross_entropy)')\n",
    "parser.add_argument('--lr_decay_step', type=int, default=20, help='learning rate scheduler deacy step (default: 20)')\n",
    "parser.add_argument('--log_interval', type=int, default=10, help='how many batches to wait before logging training status')\n",
    "parser.add_argument('--name', type=str, default='exp_kh', help='model to save at {SM_MODEL_DIR}/{name}')\n",
    "parser.add_argument('--mode', type=str, default='', help='select mask, age, gender, ensemble')\n",
    "parser.add_argument('--model_name', type=str, default='best', help='custom model name')\n",
    "parser.add_argument('--freeze', nargs='+', default=['layer1', 'layer2'], help='layers to freeze (default: [])')\n",
    "\n",
    "\n",
    "\n",
    "parser.add_argument('--dump', type=bool, default=False, help=\"choose dump or not to save model\")\n",
    "args = parser.parse_args([])\n",
    "\n",
    "helper = settings.SettingsHelper(\n",
    "    args=args,\n",
    "    device=torch.device('cuda' if torch.cuda.is_available() else 'cpu')\n",
    ")\n",
    "\n",
    "with open('wandb_config.json', 'r') as f:\n",
    "    wb_object = json.load(f)\n",
    "    project, entity, name = wb_object['init'].values()\n",
    "    wandb.init(project=project, entity=entity, config=args)\n",
    "print(args)"
   ],
   "outputs": [
    {
     "output_type": "stream",
     "name": "stderr",
     "text": [
      "Failed to detect the name of this notebook, you can set it manually with the WANDB_NOTEBOOK_NAME environment variable to enable code saving.\n",
      "\u001b[34m\u001b[1mwandb\u001b[0m: Currently logged in as: \u001b[33maim5\u001b[0m (use `wandb login --relogin` to force relogin)\n",
      "\u001b[34m\u001b[1mwandb\u001b[0m: wandb version 0.12.1 is available!  To upgrade, please run:\n",
      "\u001b[34m\u001b[1mwandb\u001b[0m:  $ pip install wandb --upgrade\n"
     ]
    },
    {
     "output_type": "display_data",
     "data": {
      "text/plain": [
       "<IPython.core.display.HTML object>"
      ],
      "text/html": [
       "\n",
       "                Tracking run with wandb version 0.11.2<br/>\n",
       "                Syncing run <strong style=\"color:#cdcd00\">rose-meadow-20</strong> to <a href=\"https://wandb.ai\" target=\"_blank\">Weights & Biases</a> <a href=\"https://docs.wandb.com/integrations/jupyter.html\" target=\"_blank\">(Documentation)</a>.<br/>\n",
       "                Project page: <a href=\"https://wandb.ai/aim5/kwanghyoun\" target=\"_blank\">https://wandb.ai/aim5/kwanghyoun</a><br/>\n",
       "                Run page: <a href=\"https://wandb.ai/aim5/kwanghyoun/runs/1yjpu8p4\" target=\"_blank\">https://wandb.ai/aim5/kwanghyoun/runs/1yjpu8p4</a><br/>\n",
       "                Run data is saved locally in <code>/opt/ml/image-classification-level1-05/wandb/run-20210902_070843-1yjpu8p4</code><br/><br/>\n",
       "            "
      ]
     },
     "metadata": {}
    },
    {
     "output_type": "stream",
     "name": "stdout",
     "text": [
      "Namespace(batch_size=64, criterion='cross_entropy', data_dir='/opt/ml/input/data/train/images', dataset='MaskBaseDataset', dump=False, epochs=10, freeze=['layer1', 'layer2'], log_interval=10, lr=0.001, lr_decay_step=20, mode='', model='ResNet18Pretrained', model_dir='./model', model_name='best', name='exp_kh', optimizer='Adam', resize=(300, 200), seed=42, transform=('BaseTransform', 'BaseTransform'), val_batch_size=10, val_ratio=0.2)\n"
     ]
    }
   ],
   "metadata": {}
  },
  {
   "cell_type": "code",
   "execution_count": 3,
   "source": [
    "args = helper.args\n",
    "device = helper.device\n",
    "is_cuda = helper.device == torch.device('cuda')"
   ],
   "outputs": [],
   "metadata": {}
  },
  {
   "cell_type": "code",
   "execution_count": 4,
   "source": [
    "mean = (0.56019358, 0.52410121, 0.501457)\n",
    "std = (0.23318603, 0.24300033, 0.24567522)\n",
    "Dataset = getattr(import_module(\"dataset\"), args.dataset)"
   ],
   "outputs": [],
   "metadata": {}
  },
  {
   "cell_type": "code",
   "execution_count": 5,
   "source": [
    "DataInfo = getattr(import_module(\"dataset\"), \"TrainInfo\")\n",
    "data_info = DataInfo(\n",
    "    file_dir=None,\n",
    "    data_dir=args.data_dir\n",
    ")\n",
    "train_df, valid_df, dist_df = data_info.split_dataset(args.val_ratio)"
   ],
   "outputs": [],
   "metadata": {}
  },
  {
   "cell_type": "code",
   "execution_count": 6,
   "source": [
    "# train_loader, valid_loader\n",
    "def generate_loader(train_set, valid_set, transforms=None):\n",
    "    train_batch_size = min(len(train_set), args.batch_size//20)\n",
    "    valid_batch_size = min(len(valid_set), args.val_batch_size)\n",
    "\n",
    "    transform_list = transforms if transforms else list(map(lambda trf: getattr(import_module(\"transform\"), trf), args.transform))\n",
    "    \n",
    "    train_transform = transform_list[1](\n",
    "        resize=args.resize,\n",
    "        mean=train_set.mean,\n",
    "        std=train_set.std,\n",
    "    )\n",
    "    valid_transform = transform_list[0](\n",
    "        resize=args.resize,\n",
    "        mean=train_set.mean,\n",
    "        std=train_set.std,\n",
    "    )\n",
    "\n",
    "    train_set.set_transform(train_transform)\n",
    "    valid_set.set_transform(valid_transform)\n",
    "\n",
    "    train_loader = DataLoader(\n",
    "        train_set,\n",
    "        batch_size=train_batch_size,\n",
    "        num_workers=mp.cpu_count()//2,\n",
    "        shuffle=True,\n",
    "        pin_memory=is_cuda,\n",
    "        drop_last=True,\n",
    "    )\n",
    "\n",
    "    valid_loader = DataLoader(\n",
    "        valid_set,\n",
    "        batch_size=valid_batch_size,\n",
    "        num_workers=mp.cpu_count()//2,\n",
    "        shuffle=False,\n",
    "        pin_memory=is_cuda,\n",
    "        drop_last=True,\n",
    "    )\n",
    "\n",
    "    return train_loader, valid_loader\n",
    "\n",
    "\n",
    "# model, criterion, optimizer, scheduler\n",
    "def model_settings():\n",
    "    Model = getattr(import_module(\"model\"), args.model)\n",
    "    model = Model(num_classes=num_classes, freeze=args.freeze).to(device)\n",
    "    model = torch.nn.DataParallel(model)\n",
    "    criterion = get_criterion(args.criterion)\n",
    "    Optimizer = getattr(import_module('torch.optim'), args.optimizer)\n",
    "    optimizer = Optimizer(\n",
    "        filter(lambda p: p.requires_grad, model.parameters()),\n",
    "        lr=args.lr,\n",
    "        weight_decay=5e-4\n",
    "    )\n",
    "    scheduler = StepLR(optimizer, args.lr_decay_step, gamma=0.5)\n",
    "\n",
    "    return model, criterion, optimizer, scheduler\n",
    "\n",
    "\n",
    "# writer, save_dir\n",
    "def other_settings(model_name=None):\n",
    "    model_dir = '/opt/ml/image-classification-level1-05/model'\n",
    "    save_dir = model_dir + '/' + model_name if model_name else helper.get_save_dir(dump=args.dump) \n",
    "    print(f\"Save Directory : {save_dir}\")\n",
    "    writer = SummaryWriter(log_dir=save_dir)\n",
    "    with open(os.path.join(save_dir, f'{args.mode}.json'), 'w', encoding='utf-8') as f:\n",
    "        json.dump(vars(args), f, ensure_ascii=False, indent=4)\n",
    "\n",
    "    return writer, save_dir"
   ],
   "outputs": [],
   "metadata": {}
  },
  {
   "cell_type": "markdown",
   "source": [
    "## 마스크 착용/미착용 데이터 분할\n",
    "---"
   ],
   "metadata": {}
  },
  {
   "cell_type": "code",
   "execution_count": 7,
   "source": [
    "train_mask = train_df.loc[train_df.Mask.isin(['Wear', 'Incorrect'])]\n",
    "valid_mask = valid_df.loc[valid_df.Mask.isin(['Wear', 'Incorrect'])]\n",
    "\n",
    "train_no_mask = train_df.loc[train_df.Mask.isin(['Not Wear'])]\n",
    "valid_no_mask = valid_df.loc[valid_df.Mask.isin(['Not Wear'])]"
   ],
   "outputs": [],
   "metadata": {}
  },
  {
   "cell_type": "markdown",
   "source": [
    "# Mask 착용 -> Age 그룹 예측\n",
    "---"
   ],
   "metadata": {}
  },
  {
   "cell_type": "markdown",
   "source": [
    "## Generate Dataset\n",
    "---"
   ],
   "metadata": {}
  },
  {
   "cell_type": "code",
   "execution_count": 8,
   "source": [
    "train_set = Dataset(train_mask, mean=mean, std=std, label_col='ClassAge' + args.mode.capitalize())\n",
    "valid_set = Dataset(valid_mask, mean=mean, std=std, label_col='ClassAge' + args.mode.capitalize())\n",
    "num_classes = train_set.num_classes\n",
    "print(num_classes)"
   ],
   "outputs": [
    {
     "output_type": "stream",
     "name": "stdout",
     "text": [
      "3\n"
     ]
    }
   ],
   "metadata": {}
  },
  {
   "cell_type": "markdown",
   "source": [
    "## Settings for Train\n",
    "---"
   ],
   "metadata": {}
  },
  {
   "cell_type": "code",
   "execution_count": 9,
   "source": [
    "model_name = 'model_mask_age'\n",
    "\n",
    "train_loader, valid_loader = generate_loader(train_set, valid_set)\n",
    "model, criterion, optimizer, scheduler = model_settings()\n",
    "writer, save_dir = other_settings(model_name)"
   ],
   "outputs": [
    {
     "output_type": "stream",
     "name": "stdout",
     "text": [
      "Save Directory : /opt/ml/image-classification-level1-05/model/model_mask_age\n"
     ]
    }
   ],
   "metadata": {}
  },
  {
   "cell_type": "markdown",
   "source": [
    "## Train & Valid set evaluation\n",
    "---"
   ],
   "metadata": {}
  },
  {
   "cell_type": "code",
   "execution_count": 10,
   "source": [
    "# Initial Setting\n",
    "best_model_acc = None\n",
    "best_model_f1 = None\n",
    "best_val_acc = 0\n",
    "best_val_loss = np.inf\n",
    "best_f1 = 0\n",
    "val_labels = []\n",
    "val_preds = []\n",
    "\n",
    "for epoch in range(1, args.epochs + 1):\n",
    "    loss_value = 0\n",
    "    matches = 0\n",
    "    accumulated_f1 = 0\n",
    "    iter_count = 0\n",
    "\n",
    "    for idx, (imgs, labels) in enumerate(train_loader):\n",
    "        imgs = imgs.to(device)\n",
    "        labels = labels.to(device)\n",
    "\n",
    "        outs = model(imgs)\n",
    "        preds = torch.argmax(outs, dim=1)\n",
    "        loss = criterion(outs, labels)\n",
    "\n",
    "        optimizer.zero_grad()\n",
    "        loss.backward()\n",
    "        optimizer.step()\n",
    "\n",
    "        loss_value += loss.item()\n",
    "        matches += (preds == labels).float().mean().item()\n",
    "        accumulated_f1 += f1_score(labels.cpu().numpy(), preds.cpu().numpy(), average='macro')\n",
    "        iter_count += 1\n",
    "\n",
    "        if (idx + 1) % args.log_interval == 0:\n",
    "            train_loss = loss_value / args.log_interval\n",
    "            train_acc = matches / args.log_interval\n",
    "            train_f1 = accumulated_f1 / iter_count\n",
    "            current_lr = logger.get_lr(optimizer)\n",
    "\n",
    "            writer.add_scalar(\"Train/loss\", train_loss, epoch * len(train_loader) + idx)\n",
    "            writer.add_scalar(\"Train/accuracy\", train_acc, epoch * len(train_loader) + idx)\n",
    "            writer.add_scalar(\"Train/f1\", train_f1, epoch * len(train_loader) + idx)\n",
    "\n",
    "            loss_value = 0\n",
    "            matches = 0\n",
    "    print(\n",
    "        f'Epoch: {epoch:0{len(str(args.epochs))}d}/{args.epochs} '\n",
    "        f'[{idx + 1:0{len(str(len(train_loader)))}d}/{len(train_loader)}]\\n'\n",
    "        f'\\tTraining - accuracy: {train_acc:>3.2%}\\tloss: {train_loss:>4.4f}\\tf1: {train_f1:>4.4f}\\tlr: {current_lr}'\n",
    "    )\n",
    "\n",
    "    scheduler.step()\n",
    "\n",
    "    model.eval()\n",
    "    with torch.no_grad():\n",
    "        val_loss_items = []\n",
    "        val_acc_items = []\n",
    "        val_f1_items = []\n",
    "\n",
    "        figure = None\n",
    "        for val_batch in valid_loader:\n",
    "            inputs, labels = val_batch\n",
    "            # if epoch == args.epochs:\n",
    "            val_labels.extend(map(torch.Tensor.item, labels))\n",
    "\n",
    "            inputs = inputs.to(device)\n",
    "            labels = labels.to(device)\n",
    "\n",
    "            outs = model(inputs)\n",
    "            preds = torch.argmax(outs, dim=-1)\n",
    "            # if epoch == args.epochs:\n",
    "            val_preds.extend(map(torch.Tensor.item, preds))\n",
    "\n",
    "            loss_item = criterion(outs, labels).item()\n",
    "            acc_item = (labels == preds).float().sum().item()\n",
    "            f1_item = f1_score(labels.cpu().numpy(), preds.cpu().numpy(), average='macro')\n",
    "            val_loss_items.append(loss_item)\n",
    "            val_acc_items.append(acc_item)\n",
    "            val_f1_items.append(f1_item)\n",
    "\n",
    "\n",
    "        val_loss = np.sum(val_loss_items) / len(valid_loader)\n",
    "        val_acc = np.sum(val_acc_items) / len(valid_set)\n",
    "        val_f1 = np.average(val_f1_items)\n",
    "        best_val_loss = min(best_val_loss, val_loss)\n",
    "        \n",
    "        print(\n",
    "            f'\\tValidation - accuracy: {val_acc:>3.2%}\\tloss: {val_loss:>4.2f}\\tf1: {val_f1:>4.2f}'\n",
    "\n",
    "            # f'Validation:\\n'\n",
    "            # f'accuracy: {val_acc:>3.2%}\\tloss: {val_loss:>4.2f}\\tf1: {val_f1:>4.2f}\\n'\n",
    "            # f'best acc : {best_val_acc:>3.2%}\\tbest loss: {best_val_loss:>4.2f}\\n'\n",
    "        )\n",
    "        if val_acc > best_val_acc:\n",
    "            print(f\"\\tNew best model for val accuracy : {val_acc:3.2%}! saving the best model..\")\n",
    "            best_val_acc = val_acc\n",
    "            best_model_acc = model\n",
    "            \n",
    "        if val_f1 > best_f1:\n",
    "            print(f\"\\tNew best model for f1 : {val_f1:3.2f}! saving the best model..\")\n",
    "            best_f1 = val_f1\n",
    "            best_model_f1 = model\n",
    "\n",
    "        writer.add_scalar(\"Val/loss\", val_loss, epoch)\n",
    "        writer.add_scalar(\"Val/accuracy\", val_acc, epoch)\n",
    "        writer.add_scalar(\"Val/f1\", val_f1, epoch)\n",
    "        # writer.add_figure(\"results\", figure, epoch)\n",
    "\n",
    "        wandb.log({\"Val/loss\": val_loss, \"Val/accuracy\": val_acc, \"Val/f1\": val_f1})\n",
    "    model.train()\n",
    "    \n",
    "torch.save(best_model_acc, os.path.join(save_dir, f'{args.mode if args.mode else model_name}.pt'))\n",
    "torch.save(best_model_f1, os.path.join(save_dir, f'{args.mode if args.mode else model_name}_f1.pt'))\n",
    "model_mask_age_acc = best_model_acc\n",
    "model_mask_age_f1 = best_model_f1\n",
    "\n",
    "# logger.save_confusion_matrix(num_classes=valid_set.num_classes, labels=val_labels, preds=val_preds, save_path=os.path.join(save_dir, 'confusion_matrix.png'))"
   ],
   "outputs": [
    {
     "output_type": "stream",
     "name": "stdout",
     "text": [
      "Epoch: 01/10 [2264/2264]\n",
      "\tTraining - accuracy: 83.33%\tloss: 0.5268\tf1: 0.6780\tlr: 0.001\n",
      "\tValidation - accuracy: 70.59%\tloss: 0.66\tf1: 0.59\n",
      "\tNew best model for val accuracy : 70.59%! saving the best model..\n",
      "\tNew best model for f1 : 0.59! saving the best model..\n",
      "Epoch: 02/10 [2264/2264]\n",
      "\tTraining - accuracy: 76.67%\tloss: 0.3711\tf1: 0.7590\tlr: 0.001\n",
      "\tValidation - accuracy: 72.62%\tloss: 0.64\tf1: 0.58\n",
      "\tNew best model for val accuracy : 72.62%! saving the best model..\n",
      "Epoch: 03/10 [2264/2264]\n",
      "\tTraining - accuracy: 83.33%\tloss: 0.5544\tf1: 0.8096\tlr: 0.001\n",
      "\tValidation - accuracy: 78.15%\tloss: 0.54\tf1: 0.68\n",
      "\tNew best model for val accuracy : 78.15%! saving the best model..\n",
      "\tNew best model for f1 : 0.68! saving the best model..\n",
      "Epoch: 04/10 [2264/2264]\n",
      "\tTraining - accuracy: 93.33%\tloss: 0.2874\tf1: 0.8609\tlr: 0.001\n",
      "\tValidation - accuracy: 81.67%\tloss: 0.44\tf1: 0.71\n",
      "\tNew best model for val accuracy : 81.67%! saving the best model..\n",
      "\tNew best model for f1 : 0.71! saving the best model..\n",
      "Epoch: 05/10 [2264/2264]\n",
      "\tTraining - accuracy: 93.33%\tloss: 0.1973\tf1: 0.8881\tlr: 0.001\n",
      "\tValidation - accuracy: 73.70%\tloss: 0.72\tf1: 0.61\n",
      "Epoch: 06/10 [2264/2264]\n",
      "\tTraining - accuracy: 96.67%\tloss: 0.0959\tf1: 0.9092\tlr: 0.001\n",
      "\tValidation - accuracy: 76.70%\tloss: 0.68\tf1: 0.64\n",
      "Epoch: 07/10 [2264/2264]\n",
      "\tTraining - accuracy: 96.67%\tloss: 0.1231\tf1: 0.9171\tlr: 0.001\n",
      "\tValidation - accuracy: 83.98%\tloss: 0.39\tf1: 0.75\n",
      "\tNew best model for val accuracy : 83.98%! saving the best model..\n",
      "\tNew best model for f1 : 0.75! saving the best model..\n",
      "Epoch: 08/10 [2264/2264]\n",
      "\tTraining - accuracy: 83.33%\tloss: 0.3879\tf1: 0.9312\tlr: 0.001\n",
      "\tValidation - accuracy: 67.01%\tloss: 1.14\tf1: 0.54\n",
      "Epoch: 09/10 [2264/2264]\n",
      "\tTraining - accuracy: 100.00%\tloss: 0.0463\tf1: 0.9367\tlr: 0.001\n",
      "\tValidation - accuracy: 75.65%\tloss: 0.68\tf1: 0.62\n",
      "Epoch: 10/10 [2264/2264]\n",
      "\tTraining - accuracy: 96.67%\tloss: 0.0869\tf1: 0.9421\tlr: 0.001\n",
      "\tValidation - accuracy: 78.46%\tloss: 0.59\tf1: 0.65\n"
     ]
    }
   ],
   "metadata": {}
  },
  {
   "cell_type": "markdown",
   "source": [
    "<br><br><br><br>\n"
   ],
   "metadata": {}
  },
  {
   "cell_type": "markdown",
   "source": [
    "# Mask 미착용 -> Age 그룹 예측\n",
    "---"
   ],
   "metadata": {}
  },
  {
   "cell_type": "markdown",
   "source": [
    "## Generate Dataset\n",
    "---"
   ],
   "metadata": {}
  },
  {
   "cell_type": "code",
   "execution_count": 11,
   "source": [
    "train_set = Dataset(train_no_mask, mean=mean, std=std, label_col='ClassAge' + args.mode.capitalize())\n",
    "valid_set = Dataset(valid_no_mask, mean=mean, std=std, label_col='ClassAge' + args.mode.capitalize())\n",
    "num_classes = train_set.num_classes\n",
    "print(num_classes)"
   ],
   "outputs": [
    {
     "output_type": "stream",
     "name": "stdout",
     "text": [
      "3\n"
     ]
    }
   ],
   "metadata": {}
  },
  {
   "cell_type": "markdown",
   "source": [
    "## Settings for Train\n",
    "---"
   ],
   "metadata": {}
  },
  {
   "cell_type": "code",
   "execution_count": 12,
   "source": [
    "model_name = 'model_nomask_age'\n",
    "\n",
    "train_loader, valid_loader = generate_loader(train_set, valid_set)\n",
    "model, criterion, optimizer, scheduler = model_settings()\n",
    "writer, save_dir = other_settings(model_name)"
   ],
   "outputs": [
    {
     "output_type": "stream",
     "name": "stdout",
     "text": [
      "Save Directory : /opt/ml/image-classification-level1-05/model/model_nomask_age\n"
     ]
    }
   ],
   "metadata": {}
  },
  {
   "cell_type": "markdown",
   "source": [
    "## Train & Valid set evaluation\n",
    "---"
   ],
   "metadata": {}
  },
  {
   "cell_type": "code",
   "execution_count": 13,
   "source": [
    "# Initial Setting\n",
    "best_model_acc = None\n",
    "best_model_f1 = None\n",
    "best_val_acc = 0\n",
    "best_val_loss = np.inf\n",
    "best_f1 = 0\n",
    "val_labels = []\n",
    "val_preds = []\n",
    "\n",
    "for epoch in range(1, args.epochs + 1):\n",
    "    loss_value = 0\n",
    "    matches = 0\n",
    "    accumulated_f1 = 0\n",
    "    iter_count = 0\n",
    "\n",
    "    for idx, (imgs, labels) in enumerate(train_loader):\n",
    "        imgs = imgs.to(device)\n",
    "        labels = labels.to(device)\n",
    "\n",
    "        outs = model(imgs)\n",
    "        preds = torch.argmax(outs, dim=1)\n",
    "        loss = criterion(outs, labels)\n",
    "\n",
    "        optimizer.zero_grad()\n",
    "        loss.backward()\n",
    "        optimizer.step()\n",
    "\n",
    "        loss_value += loss.item()\n",
    "        matches += (preds == labels).float().mean().item()\n",
    "        accumulated_f1 += f1_score(labels.cpu().numpy(), preds.cpu().numpy(), average='macro')\n",
    "        iter_count += 1\n",
    "\n",
    "        if (idx + 1) % args.log_interval == 0:\n",
    "            train_loss = loss_value / args.log_interval\n",
    "            train_acc = matches / args.log_interval\n",
    "            train_f1 = accumulated_f1 / iter_count\n",
    "            current_lr = logger.get_lr(optimizer)\n",
    "\n",
    "            writer.add_scalar(\"Train/loss\", train_loss, epoch * len(train_loader) + idx)\n",
    "            writer.add_scalar(\"Train/accuracy\", train_acc, epoch * len(train_loader) + idx)\n",
    "            writer.add_scalar(\"Train/f1\", train_f1, epoch * len(train_loader) + idx)\n",
    "\n",
    "            loss_value = 0\n",
    "            matches = 0\n",
    "    print(\n",
    "        f'Epoch: {epoch:0{len(str(args.epochs))}d}/{args.epochs} '\n",
    "        f'[{idx + 1:0{len(str(len(train_loader)))}d}/{len(train_loader)}]\\n'\n",
    "        f'\\tTraining - accuracy: {train_acc:>3.2%}\\tloss: {train_loss:>4.4f}\\tf1: {train_f1:>4.4f}\\tlr: {current_lr}'\n",
    "    )\n",
    "\n",
    "    scheduler.step()\n",
    "\n",
    "    model.eval()\n",
    "    with torch.no_grad():\n",
    "        val_loss_items = []\n",
    "        val_acc_items = []\n",
    "        val_f1_items = []\n",
    "\n",
    "        figure = None\n",
    "        for val_batch in valid_loader:\n",
    "            inputs, labels = val_batch\n",
    "            # if epoch == args.epochs:\n",
    "            val_labels.extend(map(torch.Tensor.item, labels))\n",
    "\n",
    "            inputs = inputs.to(device)\n",
    "            labels = labels.to(device)\n",
    "\n",
    "            outs = model(inputs)\n",
    "            preds = torch.argmax(outs, dim=-1)\n",
    "            # if epoch == args.epochs:\n",
    "            val_preds.extend(map(torch.Tensor.item, preds))\n",
    "\n",
    "            loss_item = criterion(outs, labels).item()\n",
    "            acc_item = (labels == preds).float().sum().item()\n",
    "            f1_item = f1_score(labels.cpu().numpy(), preds.cpu().numpy(), average='macro')\n",
    "            val_loss_items.append(loss_item)\n",
    "            val_acc_items.append(acc_item)\n",
    "            val_f1_items.append(f1_item)\n",
    "\n",
    "\n",
    "        val_loss = np.sum(val_loss_items) / len(valid_loader)\n",
    "        val_acc = np.sum(val_acc_items) / len(valid_set)\n",
    "        val_f1 = np.average(val_f1_items)\n",
    "        best_val_loss = min(best_val_loss, val_loss)\n",
    "        \n",
    "        print(\n",
    "            f'\\tValidation - accuracy: {val_acc:>3.2%}\\tloss: {val_loss:>4.2f}\\tf1: {val_f1:>4.2f}'\n",
    "\n",
    "            # f'Validation:\\n'\n",
    "            # f'accuracy: {val_acc:>3.2%}\\tloss: {val_loss:>4.2f}\\tf1: {val_f1:>4.2f}\\n'\n",
    "            # f'best acc : {best_val_acc:>3.2%}\\tbest loss: {best_val_loss:>4.2f}\\n'\n",
    "        )\n",
    "        if val_acc > best_val_acc:\n",
    "            print(f\"\\tNew best model for val accuracy : {val_acc:3.2%}! saving the best model..\")\n",
    "            best_val_acc = val_acc\n",
    "            best_model_acc = model\n",
    "            \n",
    "        if val_f1 > best_f1:\n",
    "            print(f\"\\tNew best model for f1 : {val_f1:3.2f}! saving the best model..\")\n",
    "            best_f1 = val_f1\n",
    "            best_model_f1 = model\n",
    "\n",
    "        writer.add_scalar(\"Val/loss\", val_loss, epoch)\n",
    "        writer.add_scalar(\"Val/accuracy\", val_acc, epoch)\n",
    "        writer.add_scalar(\"Val/f1\", val_f1, epoch)\n",
    "        # writer.add_figure(\"results\", figure, epoch)\n",
    "\n",
    "        wandb.log({\"Val/loss\": val_loss, \"Val/accuracy\": val_acc, \"Val/f1\": val_f1})\n",
    "    model.train()\n",
    "    \n",
    "torch.save(best_model_acc, os.path.join(save_dir, f'{args.mode if args.mode else model_name}.pt'))\n",
    "torch.save(best_model_f1, os.path.join(save_dir, f'{args.mode if args.mode else model_name}_f1.pt'))\n",
    "model_nomask_age_acc = best_model_acc\n",
    "model_nomask_age_f1 = best_model_f1\n",
    "\n",
    "# logger.save_confusion_matrix(num_classes=valid_set.num_classes, labels=val_labels, preds=val_preds, save_path=os.path.join(save_dir, 'confusion_matrix.png'))"
   ],
   "outputs": [
    {
     "output_type": "stream",
     "name": "stdout",
     "text": [
      "Epoch: 01/10 [377/377]\n",
      "\tTraining - accuracy: 73.33%\tloss: 0.7129\tf1: 0.5933\tlr: 0.001\n",
      "\tValidation - accuracy: 56.85%\tloss: 1.00\tf1: 0.42\n",
      "\tNew best model for val accuracy : 56.85%! saving the best model..\n",
      "\tNew best model for f1 : 0.42! saving the best model..\n",
      "Epoch: 02/10 [377/377]\n",
      "\tTraining - accuracy: 76.67%\tloss: 0.5793\tf1: 0.7013\tlr: 0.001\n",
      "\tValidation - accuracy: 45.56%\tloss: 1.34\tf1: 0.34\n",
      "Epoch: 03/10 [377/377]\n",
      "\tTraining - accuracy: 76.67%\tloss: 0.6047\tf1: 0.7202\tlr: 0.001\n",
      "\tValidation - accuracy: 78.89%\tloss: 0.45\tf1: 0.65\n",
      "\tNew best model for val accuracy : 78.89%! saving the best model..\n",
      "\tNew best model for f1 : 0.65! saving the best model..\n",
      "Epoch: 04/10 [377/377]\n",
      "\tTraining - accuracy: 76.67%\tloss: 0.4492\tf1: 0.7621\tlr: 0.001\n",
      "\tValidation - accuracy: 81.11%\tloss: 0.55\tf1: 0.68\n",
      "\tNew best model for val accuracy : 81.11%! saving the best model..\n",
      "\tNew best model for f1 : 0.68! saving the best model..\n",
      "Epoch: 05/10 [377/377]\n",
      "\tTraining - accuracy: 76.67%\tloss: 0.5291\tf1: 0.7491\tlr: 0.001\n",
      "\tValidation - accuracy: 75.37%\tloss: 0.58\tf1: 0.63\n",
      "Epoch: 06/10 [377/377]\n",
      "\tTraining - accuracy: 80.00%\tloss: 0.6413\tf1: 0.7902\tlr: 0.001\n",
      "\tValidation - accuracy: 53.70%\tloss: 1.55\tf1: 0.44\n",
      "Epoch: 07/10 [377/377]\n",
      "\tTraining - accuracy: 90.00%\tloss: 0.3623\tf1: 0.7944\tlr: 0.001\n",
      "\tValidation - accuracy: 59.63%\tloss: 0.90\tf1: 0.50\n",
      "Epoch: 08/10 [377/377]\n",
      "\tTraining - accuracy: 90.00%\tloss: 0.2891\tf1: 0.8022\tlr: 0.001\n",
      "\tValidation - accuracy: 65.37%\tloss: 1.29\tf1: 0.56\n",
      "Epoch: 09/10 [377/377]\n",
      "\tTraining - accuracy: 90.00%\tloss: 0.2483\tf1: 0.8245\tlr: 0.001\n",
      "\tValidation - accuracy: 65.74%\tloss: 0.77\tf1: 0.50\n",
      "Epoch: 10/10 [377/377]\n",
      "\tTraining - accuracy: 83.33%\tloss: 0.4429\tf1: 0.8199\tlr: 0.001\n",
      "\tValidation - accuracy: 62.04%\tloss: 0.78\tf1: 0.48\n"
     ]
    }
   ],
   "metadata": {}
  },
  {
   "cell_type": "markdown",
   "source": [
    "<br><br><br><br>\n"
   ],
   "metadata": {}
  },
  {
   "cell_type": "markdown",
   "source": [
    "# Mask 착용 -> Gender 그룹 예측\n",
    "---"
   ],
   "metadata": {}
  },
  {
   "cell_type": "markdown",
   "source": [
    "## Generate Dataset\n",
    "---"
   ],
   "metadata": {}
  },
  {
   "cell_type": "code",
   "execution_count": 14,
   "source": [
    "train_set = Dataset(train_mask, mean=mean, std=std, label_col='ClassGender' + args.mode.capitalize())\n",
    "valid_set = Dataset(valid_mask, mean=mean, std=std, label_col='ClassGender' + args.mode.capitalize())\n",
    "num_classes = train_set.num_classes\n",
    "print(num_classes)"
   ],
   "outputs": [
    {
     "output_type": "stream",
     "name": "stdout",
     "text": [
      "2\n"
     ]
    }
   ],
   "metadata": {}
  },
  {
   "cell_type": "markdown",
   "source": [
    "## Settings for Train\n",
    "---"
   ],
   "metadata": {}
  },
  {
   "cell_type": "code",
   "execution_count": 15,
   "source": [
    "model_name = 'model_mask_gender'\n",
    "\n",
    "train_loader, valid_loader = generate_loader(train_set, valid_set)\n",
    "model, criterion, optimizer, scheduler = model_settings()\n",
    "writer, save_dir = other_settings(model_name)"
   ],
   "outputs": [
    {
     "output_type": "stream",
     "name": "stdout",
     "text": [
      "Save Directory : /opt/ml/image-classification-level1-05/model/model_mask_gender\n"
     ]
    }
   ],
   "metadata": {}
  },
  {
   "cell_type": "markdown",
   "source": [
    "## Train & Valid set evaluation\n",
    "---"
   ],
   "metadata": {}
  },
  {
   "cell_type": "code",
   "execution_count": 16,
   "source": [
    "# Initial Setting\n",
    "best_model_acc = None\n",
    "best_model_f1 = None\n",
    "best_val_acc = 0\n",
    "best_val_loss = np.inf\n",
    "best_f1 = 0\n",
    "val_labels = []\n",
    "val_preds = []\n",
    "\n",
    "for epoch in range(1, args.epochs + 1):\n",
    "    loss_value = 0\n",
    "    matches = 0\n",
    "    accumulated_f1 = 0\n",
    "    iter_count = 0\n",
    "\n",
    "    for idx, (imgs, labels) in enumerate(train_loader):\n",
    "        imgs = imgs.to(device)\n",
    "        labels = labels.to(device)\n",
    "\n",
    "        outs = model(imgs)\n",
    "        preds = torch.argmax(outs, dim=1)\n",
    "        loss = criterion(outs, labels)\n",
    "\n",
    "        optimizer.zero_grad()\n",
    "        loss.backward()\n",
    "        optimizer.step()\n",
    "\n",
    "        loss_value += loss.item()\n",
    "        matches += (preds == labels).float().mean().item()\n",
    "        accumulated_f1 += f1_score(labels.cpu().numpy(), preds.cpu().numpy(), average='macro')\n",
    "        iter_count += 1\n",
    "\n",
    "        if (idx + 1) % args.log_interval == 0:\n",
    "            train_loss = loss_value / args.log_interval\n",
    "            train_acc = matches / args.log_interval\n",
    "            train_f1 = accumulated_f1 / iter_count\n",
    "            current_lr = logger.get_lr(optimizer)\n",
    "\n",
    "            writer.add_scalar(\"Train/loss\", train_loss, epoch * len(train_loader) + idx)\n",
    "            writer.add_scalar(\"Train/accuracy\", train_acc, epoch * len(train_loader) + idx)\n",
    "            writer.add_scalar(\"Train/f1\", train_f1, epoch * len(train_loader) + idx)\n",
    "\n",
    "            loss_value = 0\n",
    "            matches = 0\n",
    "    print(\n",
    "        f'Epoch: {epoch:0{len(str(args.epochs))}d}/{args.epochs} '\n",
    "        f'[{idx + 1:0{len(str(len(train_loader)))}d}/{len(train_loader)}]\\n'\n",
    "        f'\\tTraining - accuracy: {train_acc:>3.2%}\\tloss: {train_loss:>4.4f}\\tf1: {train_f1:>4.4f}\\tlr: {current_lr}'\n",
    "    )\n",
    "\n",
    "    scheduler.step()\n",
    "\n",
    "    model.eval()\n",
    "    with torch.no_grad():\n",
    "        val_loss_items = []\n",
    "        val_acc_items = []\n",
    "        val_f1_items = []\n",
    "\n",
    "        figure = None\n",
    "        for val_batch in valid_loader:\n",
    "            inputs, labels = val_batch\n",
    "            # if epoch == args.epochs:\n",
    "            val_labels.extend(map(torch.Tensor.item, labels))\n",
    "\n",
    "            inputs = inputs.to(device)\n",
    "            labels = labels.to(device)\n",
    "\n",
    "            outs = model(inputs)\n",
    "            preds = torch.argmax(outs, dim=-1)\n",
    "            # if epoch == args.epochs:\n",
    "            val_preds.extend(map(torch.Tensor.item, preds))\n",
    "\n",
    "            loss_item = criterion(outs, labels).item()\n",
    "            acc_item = (labels == preds).float().sum().item()\n",
    "            f1_item = f1_score(labels.cpu().numpy(), preds.cpu().numpy(), average='macro')\n",
    "            val_loss_items.append(loss_item)\n",
    "            val_acc_items.append(acc_item)\n",
    "            val_f1_items.append(f1_item)\n",
    "\n",
    "\n",
    "        val_loss = np.sum(val_loss_items) / len(valid_loader)\n",
    "        val_acc = np.sum(val_acc_items) / len(valid_set)\n",
    "        val_f1 = np.average(val_f1_items)\n",
    "        best_val_loss = min(best_val_loss, val_loss)\n",
    "        \n",
    "        print(\n",
    "            f'\\tValidation - accuracy: {val_acc:>3.2%}\\tloss: {val_loss:>4.2f}\\tf1: {val_f1:>4.2f}'\n",
    "\n",
    "            # f'Validation:\\n'\n",
    "            # f'accuracy: {val_acc:>3.2%}\\tloss: {val_loss:>4.2f}\\tf1: {val_f1:>4.2f}\\n'\n",
    "            # f'best acc : {best_val_acc:>3.2%}\\tbest loss: {best_val_loss:>4.2f}\\n'\n",
    "        )\n",
    "        if val_acc > best_val_acc:\n",
    "            print(f\"\\tNew best model for val accuracy : {val_acc:3.2%}! saving the best model..\")\n",
    "            best_val_acc = val_acc\n",
    "            best_model_acc = model\n",
    "            \n",
    "        if val_f1 > best_f1:\n",
    "            print(f\"\\tNew best model for f1 : {val_f1:3.2f}! saving the best model..\")\n",
    "            best_f1 = val_f1\n",
    "            best_model_f1 = model\n",
    "\n",
    "        writer.add_scalar(\"Val/loss\", val_loss, epoch)\n",
    "        writer.add_scalar(\"Val/accuracy\", val_acc, epoch)\n",
    "        writer.add_scalar(\"Val/f1\", val_f1, epoch)\n",
    "        # writer.add_figure(\"results\", figure, epoch)\n",
    "\n",
    "        wandb.log({\"Val/loss\": val_loss, \"Val/accuracy\": val_acc, \"Val/f1\": val_f1})\n",
    "    model.train()\n",
    "    \n",
    "torch.save(best_model_acc, os.path.join(save_dir, f'{args.mode if args.mode else model_name}.pt'))\n",
    "torch.save(best_model_f1, os.path.join(save_dir, f'{args.mode if args.mode else model_name}_f1.pt'))\n",
    "model_mask_gender_acc = best_model_acc\n",
    "model_mask_gender_f1 = best_model_f1\n",
    "\n",
    "# logger.save_confusion_matrix(num_classes=valid_set.num_classes, labels=val_labels, preds=val_preds, save_path=os.path.join(save_dir, 'confusion_matrix.png'))"
   ],
   "outputs": [
    {
     "output_type": "stream",
     "name": "stdout",
     "text": [
      "Epoch: 01/10 [2264/2264]\n",
      "\tTraining - accuracy: 93.33%\tloss: 0.2729\tf1: 0.8424\tlr: 0.001\n",
      "\tValidation - accuracy: 89.51%\tloss: 0.23\tf1: 0.85\n",
      "\tNew best model for val accuracy : 89.51%! saving the best model..\n",
      "\tNew best model for f1 : 0.85! saving the best model..\n",
      "Epoch: 02/10 [2264/2264]\n",
      "\tTraining - accuracy: 96.67%\tloss: 0.1006\tf1: 0.8968\tlr: 0.001\n",
      "\tValidation - accuracy: 92.93%\tloss: 0.18\tf1: 0.87\n",
      "\tNew best model for val accuracy : 92.93%! saving the best model..\n",
      "\tNew best model for f1 : 0.87! saving the best model..\n",
      "Epoch: 03/10 [2264/2264]\n",
      "\tTraining - accuracy: 100.00%\tloss: 0.0396\tf1: 0.9318\tlr: 0.001\n",
      "\tValidation - accuracy: 94.94%\tloss: 0.13\tf1: 0.91\n",
      "\tNew best model for val accuracy : 94.94%! saving the best model..\n",
      "\tNew best model for f1 : 0.91! saving the best model..\n",
      "Epoch: 04/10 [2264/2264]\n",
      "\tTraining - accuracy: 90.00%\tloss: 0.1359\tf1: 0.9419\tlr: 0.001\n",
      "\tValidation - accuracy: 96.14%\tloss: 0.11\tf1: 0.93\n",
      "\tNew best model for val accuracy : 96.14%! saving the best model..\n",
      "\tNew best model for f1 : 0.93! saving the best model..\n",
      "Epoch: 05/10 [2264/2264]\n",
      "\tTraining - accuracy: 96.67%\tloss: 0.0428\tf1: 0.9595\tlr: 0.001\n",
      "\tValidation - accuracy: 93.92%\tloss: 0.16\tf1: 0.91\n",
      "Epoch: 06/10 [2264/2264]\n",
      "\tTraining - accuracy: 93.33%\tloss: 0.1343\tf1: 0.9608\tlr: 0.001\n",
      "\tValidation - accuracy: 93.33%\tloss: 0.20\tf1: 0.89\n",
      "Epoch: 07/10 [2264/2264]\n",
      "\tTraining - accuracy: 93.33%\tloss: 0.2550\tf1: 0.9725\tlr: 0.001\n",
      "\tValidation - accuracy: 95.40%\tloss: 0.12\tf1: 0.90\n",
      "Epoch: 08/10 [2264/2264]\n",
      "\tTraining - accuracy: 93.33%\tloss: 0.2795\tf1: 0.9662\tlr: 0.001\n",
      "\tValidation - accuracy: 90.71%\tloss: 0.25\tf1: 0.83\n",
      "Epoch: 09/10 [2264/2264]\n",
      "\tTraining - accuracy: 96.67%\tloss: 0.0756\tf1: 0.9728\tlr: 0.001\n",
      "\tValidation - accuracy: 96.67%\tloss: 0.11\tf1: 0.93\n",
      "\tNew best model for val accuracy : 96.67%! saving the best model..\n",
      "\tNew best model for f1 : 0.93! saving the best model..\n",
      "Epoch: 10/10 [2264/2264]\n",
      "\tTraining - accuracy: 100.00%\tloss: 0.0055\tf1: 0.9780\tlr: 0.001\n",
      "\tValidation - accuracy: 94.97%\tloss: 0.14\tf1: 0.92\n"
     ]
    }
   ],
   "metadata": {}
  },
  {
   "cell_type": "markdown",
   "source": [
    "<br><br><br><br>\n"
   ],
   "metadata": {}
  },
  {
   "cell_type": "markdown",
   "source": [
    "# Mask 미착용 -> Gender 그룹 예측\n",
    "---"
   ],
   "metadata": {}
  },
  {
   "cell_type": "markdown",
   "source": [
    "## Generate Dataset\n",
    "---"
   ],
   "metadata": {}
  },
  {
   "cell_type": "code",
   "execution_count": 17,
   "source": [
    "train_set = Dataset(train_no_mask, mean=mean, std=std, label_col='ClassGender' + args.mode.capitalize())\n",
    "valid_set = Dataset(valid_no_mask, mean=mean, std=std, label_col='ClassGender' + args.mode.capitalize())\n",
    "num_classes = train_set.num_classes\n",
    "print(num_classes)"
   ],
   "outputs": [
    {
     "output_type": "stream",
     "name": "stdout",
     "text": [
      "2\n"
     ]
    }
   ],
   "metadata": {}
  },
  {
   "cell_type": "markdown",
   "source": [
    "## Settings for Train\n",
    "---"
   ],
   "metadata": {}
  },
  {
   "cell_type": "code",
   "execution_count": 18,
   "source": [
    "model_name = 'model_nomask_gender'\n",
    "\n",
    "train_loader, valid_loader = generate_loader(train_set, valid_set)\n",
    "model, criterion, optimizer, scheduler = model_settings()\n",
    "writer, save_dir = other_settings(model_name)"
   ],
   "outputs": [
    {
     "output_type": "stream",
     "name": "stdout",
     "text": [
      "Save Directory : /opt/ml/image-classification-level1-05/model/model_nomask_gender\n"
     ]
    }
   ],
   "metadata": {}
  },
  {
   "cell_type": "markdown",
   "source": [
    "## Train & Valid set evaluation\n",
    "---"
   ],
   "metadata": {}
  },
  {
   "cell_type": "code",
   "execution_count": 19,
   "source": [
    "# Initial Setting\n",
    "best_model_acc = None\n",
    "best_model_f1 = None\n",
    "best_val_acc = 0\n",
    "best_val_loss = np.inf\n",
    "best_f1 = 0\n",
    "val_labels = []\n",
    "val_preds = []\n",
    "\n",
    "for epoch in range(1, args.epochs + 1):\n",
    "    loss_value = 0\n",
    "    matches = 0\n",
    "    accumulated_f1 = 0\n",
    "    iter_count = 0\n",
    "\n",
    "    for idx, (imgs, labels) in enumerate(train_loader):\n",
    "        imgs = imgs.to(device)\n",
    "        labels = labels.to(device)\n",
    "\n",
    "        outs = model(imgs)\n",
    "        preds = torch.argmax(outs, dim=1)\n",
    "        loss = criterion(outs, labels)\n",
    "\n",
    "        optimizer.zero_grad()\n",
    "        loss.backward()\n",
    "        optimizer.step()\n",
    "\n",
    "        loss_value += loss.item()\n",
    "        matches += (preds == labels).float().mean().item()\n",
    "        accumulated_f1 += f1_score(labels.cpu().numpy(), preds.cpu().numpy(), average='macro')\n",
    "        iter_count += 1\n",
    "\n",
    "        if (idx + 1) % args.log_interval == 0:\n",
    "            train_loss = loss_value / args.log_interval\n",
    "            train_acc = matches / args.log_interval\n",
    "            train_f1 = accumulated_f1 / iter_count\n",
    "            current_lr = logger.get_lr(optimizer)\n",
    "\n",
    "            writer.add_scalar(\"Train/loss\", train_loss, epoch * len(train_loader) + idx)\n",
    "            writer.add_scalar(\"Train/accuracy\", train_acc, epoch * len(train_loader) + idx)\n",
    "            writer.add_scalar(\"Train/f1\", train_f1, epoch * len(train_loader) + idx)\n",
    "\n",
    "            loss_value = 0\n",
    "            matches = 0\n",
    "    print(\n",
    "        f'Epoch: {epoch:0{len(str(args.epochs))}d}/{args.epochs} '\n",
    "        f'[{idx + 1:0{len(str(len(train_loader)))}d}/{len(train_loader)}]\\n'\n",
    "        f'\\tTraining - accuracy: {train_acc:>3.2%}\\tloss: {train_loss:>4.4f}\\tf1: {train_f1:>4.4f}\\tlr: {current_lr}'\n",
    "    )\n",
    "\n",
    "    scheduler.step()\n",
    "\n",
    "    model.eval()\n",
    "    with torch.no_grad():\n",
    "        val_loss_items = []\n",
    "        val_acc_items = []\n",
    "        val_f1_items = []\n",
    "\n",
    "        figure = None\n",
    "        for val_batch in valid_loader:\n",
    "            inputs, labels = val_batch\n",
    "            # if epoch == args.epochs:\n",
    "            val_labels.extend(map(torch.Tensor.item, labels))\n",
    "\n",
    "            inputs = inputs.to(device)\n",
    "            labels = labels.to(device)\n",
    "\n",
    "            outs = model(inputs)\n",
    "            preds = torch.argmax(outs, dim=-1)\n",
    "            # if epoch == args.epochs:\n",
    "            val_preds.extend(map(torch.Tensor.item, preds))\n",
    "\n",
    "            loss_item = criterion(outs, labels).item()\n",
    "            acc_item = (labels == preds).float().sum().item()\n",
    "            f1_item = f1_score(labels.cpu().numpy(), preds.cpu().numpy(), average='macro')\n",
    "            val_loss_items.append(loss_item)\n",
    "            val_acc_items.append(acc_item)\n",
    "            val_f1_items.append(f1_item)\n",
    "\n",
    "\n",
    "        val_loss = np.sum(val_loss_items) / len(valid_loader)\n",
    "        val_acc = np.sum(val_acc_items) / len(valid_set)\n",
    "        val_f1 = np.average(val_f1_items)\n",
    "        best_val_loss = min(best_val_loss, val_loss)\n",
    "        \n",
    "        print(\n",
    "            f'\\tValidation - accuracy: {val_acc:>3.2%}\\tloss: {val_loss:>4.2f}\\tf1: {val_f1:>4.2f}'\n",
    "\n",
    "            # f'Validation:\\n'\n",
    "            # f'accuracy: {val_acc:>3.2%}\\tloss: {val_loss:>4.2f}\\tf1: {val_f1:>4.2f}\\n'\n",
    "            # f'best acc : {best_val_acc:>3.2%}\\tbest loss: {best_val_loss:>4.2f}\\n'\n",
    "        )\n",
    "        if val_acc > best_val_acc:\n",
    "            print(f\"\\tNew best model for val accuracy : {val_acc:3.2%}! saving the best model..\")\n",
    "            best_val_acc = val_acc\n",
    "            best_model_acc = model\n",
    "            \n",
    "        if val_f1 > best_f1:\n",
    "            print(f\"\\tNew best model for f1 : {val_f1:3.2f}! saving the best model..\")\n",
    "            best_f1 = val_f1\n",
    "            best_model_f1 = model\n",
    "\n",
    "        writer.add_scalar(\"Val/loss\", val_loss, epoch)\n",
    "        writer.add_scalar(\"Val/accuracy\", val_acc, epoch)\n",
    "        writer.add_scalar(\"Val/f1\", val_f1, epoch)\n",
    "        # writer.add_figure(\"results\", figure, epoch)\n",
    "\n",
    "        wandb.log({\"Val/loss\": val_loss, \"Val/accuracy\": val_acc, \"Val/f1\": val_f1})\n",
    "    model.train()\n",
    "    \n",
    "torch.save(best_model_acc, os.path.join(save_dir, f'{args.mode if args.mode else model_name}.pt'))\n",
    "torch.save(best_model_f1, os.path.join(save_dir, f'{args.mode if args.mode else model_name}_f1.pt'))\n",
    "model_nomask_gender_acc = best_model_acc\n",
    "model_nomask_gender_f1 = best_model_f1\n",
    "\n",
    "# logger.save_confusion_matrix(num_classes=valid_set.num_classes, labels=val_labels, preds=val_preds, save_path=os.path.join(save_dir, 'confusion_matrix.png'))"
   ],
   "outputs": [
    {
     "output_type": "stream",
     "name": "stdout",
     "text": [
      "Epoch: 01/10 [377/377]\n",
      "\tTraining - accuracy: 80.00%\tloss: 0.3765\tf1: 0.6991\tlr: 0.001\n",
      "\tValidation - accuracy: 62.59%\tloss: 0.65\tf1: 0.44\n",
      "\tNew best model for val accuracy : 62.59%! saving the best model..\n",
      "\tNew best model for f1 : 0.44! saving the best model..\n",
      "Epoch: 02/10 [377/377]\n",
      "\tTraining - accuracy: 93.33%\tloss: 0.2893\tf1: 0.7645\tlr: 0.001\n",
      "\tValidation - accuracy: 55.00%\tloss: 0.70\tf1: 0.46\n",
      "\tNew best model for f1 : 0.46! saving the best model..\n",
      "Epoch: 03/10 [377/377]\n",
      "\tTraining - accuracy: 83.33%\tloss: 0.3457\tf1: 0.8385\tlr: 0.001\n",
      "\tValidation - accuracy: 93.89%\tloss: 0.21\tf1: 0.91\n",
      "\tNew best model for val accuracy : 93.89%! saving the best model..\n",
      "\tNew best model for f1 : 0.91! saving the best model..\n",
      "Epoch: 04/10 [377/377]\n",
      "\tTraining - accuracy: 90.00%\tloss: 0.2746\tf1: 0.8339\tlr: 0.001\n",
      "\tValidation - accuracy: 94.63%\tloss: 0.16\tf1: 0.92\n",
      "\tNew best model for val accuracy : 94.63%! saving the best model..\n",
      "\tNew best model for f1 : 0.92! saving the best model..\n",
      "Epoch: 05/10 [377/377]\n",
      "\tTraining - accuracy: 90.00%\tloss: 0.1927\tf1: 0.8971\tlr: 0.001\n",
      "\tValidation - accuracy: 78.70%\tloss: 0.41\tf1: 0.68\n",
      "Epoch: 06/10 [377/377]\n",
      "\tTraining - accuracy: 86.67%\tloss: 0.3429\tf1: 0.9018\tlr: 0.001\n",
      "\tValidation - accuracy: 89.81%\tloss: 0.29\tf1: 0.84\n",
      "Epoch: 07/10 [377/377]\n",
      "\tTraining - accuracy: 83.33%\tloss: 0.3846\tf1: 0.8864\tlr: 0.001\n",
      "\tValidation - accuracy: 92.78%\tloss: 0.18\tf1: 0.89\n",
      "Epoch: 08/10 [377/377]\n",
      "\tTraining - accuracy: 86.67%\tloss: 0.3183\tf1: 0.9126\tlr: 0.001\n",
      "\tValidation - accuracy: 94.26%\tloss: 0.14\tf1: 0.91\n",
      "Epoch: 09/10 [377/377]\n",
      "\tTraining - accuracy: 96.67%\tloss: 0.0978\tf1: 0.9027\tlr: 0.001\n",
      "\tValidation - accuracy: 92.41%\tloss: 0.23\tf1: 0.88\n",
      "Epoch: 10/10 [377/377]\n",
      "\tTraining - accuracy: 93.33%\tloss: 0.2323\tf1: 0.8968\tlr: 0.001\n",
      "\tValidation - accuracy: 92.22%\tloss: 0.17\tf1: 0.89\n"
     ]
    }
   ],
   "metadata": {}
  },
  {
   "cell_type": "markdown",
   "source": [
    "<br><br><br><br>\n"
   ],
   "metadata": {}
  },
  {
   "cell_type": "markdown",
   "source": [
    "# Mask 분류\n",
    "---"
   ],
   "metadata": {}
  },
  {
   "cell_type": "markdown",
   "source": [
    "## Generate Dataset\n",
    "---"
   ],
   "metadata": {}
  },
  {
   "cell_type": "code",
   "execution_count": 20,
   "source": [
    "train_set = Dataset(train_df, mean=mean, std=std, label_col='ClassMask')\n",
    "valid_set = Dataset(valid_df, mean=mean, std=std, label_col='ClassMask')\n",
    "num_classes = train_set.num_classes\n",
    "print(num_classes)"
   ],
   "outputs": [
    {
     "output_type": "stream",
     "name": "stdout",
     "text": [
      "3\n"
     ]
    }
   ],
   "metadata": {}
  },
  {
   "cell_type": "markdown",
   "source": [
    "## Settings for Train\n",
    "---"
   ],
   "metadata": {}
  },
  {
   "cell_type": "code",
   "execution_count": 21,
   "source": [
    "model_name = 'model_mask'\n",
    "\n",
    "train_loader, valid_loader = generate_loader(train_set, valid_set)\n",
    "model, criterion, optimizer, scheduler = model_settings()\n",
    "writer, save_dir = other_settings(model_name)"
   ],
   "outputs": [
    {
     "output_type": "stream",
     "name": "stdout",
     "text": [
      "Save Directory : /opt/ml/image-classification-level1-05/model/model_mask\n"
     ]
    }
   ],
   "metadata": {}
  },
  {
   "cell_type": "markdown",
   "source": [
    "## Train & Valid set evaluation\n",
    "---"
   ],
   "metadata": {}
  },
  {
   "cell_type": "code",
   "execution_count": 22,
   "source": [
    "# Initial Setting\n",
    "best_model_acc = None\n",
    "best_model_f1 = None\n",
    "best_val_acc = 0\n",
    "best_val_loss = np.inf\n",
    "best_f1 = 0\n",
    "val_labels = []\n",
    "val_preds = []\n",
    "\n",
    "for epoch in range(1, args.epochs + 1):\n",
    "    loss_value = 0\n",
    "    matches = 0\n",
    "    accumulated_f1 = 0\n",
    "    iter_count = 0\n",
    "\n",
    "    for idx, (imgs, labels) in enumerate(train_loader):\n",
    "        imgs = imgs.to(device)\n",
    "        labels = labels.to(device)\n",
    "\n",
    "        outs = model(imgs)\n",
    "        preds = torch.argmax(outs, dim=1)\n",
    "        loss = criterion(outs, labels)\n",
    "\n",
    "        optimizer.zero_grad()\n",
    "        loss.backward()\n",
    "        optimizer.step()\n",
    "\n",
    "        loss_value += loss.item()\n",
    "        matches += (preds == labels).float().mean().item()\n",
    "        accumulated_f1 += f1_score(labels.cpu().numpy(), preds.cpu().numpy(), average='macro')\n",
    "        iter_count += 1\n",
    "\n",
    "        if (idx + 1) % args.log_interval == 0:\n",
    "            train_loss = loss_value / args.log_interval\n",
    "            train_acc = matches / args.log_interval\n",
    "            train_f1 = accumulated_f1 / iter_count\n",
    "            current_lr = logger.get_lr(optimizer)\n",
    "\n",
    "            writer.add_scalar(\"Train/loss\", train_loss, epoch * len(train_loader) + idx)\n",
    "            writer.add_scalar(\"Train/accuracy\", train_acc, epoch * len(train_loader) + idx)\n",
    "            writer.add_scalar(\"Train/f1\", train_f1, epoch * len(train_loader) + idx)\n",
    "\n",
    "            loss_value = 0\n",
    "            matches = 0\n",
    "    print(\n",
    "        f'Epoch: {epoch:0{len(str(args.epochs))}d}/{args.epochs} '\n",
    "        f'[{idx + 1:0{len(str(len(train_loader)))}d}/{len(train_loader)}]\\n'\n",
    "        f'\\tTraining - accuracy: {train_acc:>3.2%}\\tloss: {train_loss:>4.4f}\\tf1: {train_f1:>4.4f}\\tlr: {current_lr}'\n",
    "    )\n",
    "\n",
    "    scheduler.step()\n",
    "\n",
    "    model.eval()\n",
    "    with torch.no_grad():\n",
    "        val_loss_items = []\n",
    "        val_acc_items = []\n",
    "        val_f1_items = []\n",
    "\n",
    "        figure = None\n",
    "        for val_batch in valid_loader:\n",
    "            inputs, labels = val_batch\n",
    "            # if epoch == args.epochs:\n",
    "            val_labels.extend(map(torch.Tensor.item, labels))\n",
    "\n",
    "            inputs = inputs.to(device)\n",
    "            labels = labels.to(device)\n",
    "\n",
    "            outs = model(inputs)\n",
    "            preds = torch.argmax(outs, dim=-1)\n",
    "            # if epoch == args.epochs:\n",
    "            val_preds.extend(map(torch.Tensor.item, preds))\n",
    "\n",
    "            loss_item = criterion(outs, labels).item()\n",
    "            acc_item = (labels == preds).float().sum().item()\n",
    "            f1_item = f1_score(labels.cpu().numpy(), preds.cpu().numpy(), average='macro')\n",
    "            val_loss_items.append(loss_item)\n",
    "            val_acc_items.append(acc_item)\n",
    "            val_f1_items.append(f1_item)\n",
    "\n",
    "\n",
    "        val_loss = np.sum(val_loss_items) / len(valid_loader)\n",
    "        val_acc = np.sum(val_acc_items) / len(valid_set)\n",
    "        val_f1 = np.average(val_f1_items)\n",
    "        best_val_loss = min(best_val_loss, val_loss)\n",
    "        \n",
    "        print(\n",
    "            f'\\tValidation - accuracy: {val_acc:>3.2%}\\tloss: {val_loss:>4.2f}\\tf1: {val_f1:>4.2f}'\n",
    "\n",
    "            # f'Validation:\\n'\n",
    "            # f'accuracy: {val_acc:>3.2%}\\tloss: {val_loss:>4.2f}\\tf1: {val_f1:>4.2f}\\n'\n",
    "            # f'best acc : {best_val_acc:>3.2%}\\tbest loss: {best_val_loss:>4.2f}\\n'\n",
    "        )\n",
    "        if val_acc > best_val_acc:\n",
    "            print(f\"\\tNew best model for val accuracy : {val_acc:3.2%}! saving the best model..\")\n",
    "            best_val_acc = val_acc\n",
    "            best_model_acc = model\n",
    "            \n",
    "        if val_f1 > best_f1:\n",
    "            print(f\"\\tNew best model for f1 : {val_f1:3.2f}! saving the best model..\")\n",
    "            best_f1 = val_f1\n",
    "            best_model_f1 = model\n",
    "\n",
    "        writer.add_scalar(\"Val/loss\", val_loss, epoch)\n",
    "        writer.add_scalar(\"Val/accuracy\", val_acc, epoch)\n",
    "        writer.add_scalar(\"Val/f1\", val_f1, epoch)\n",
    "        # writer.add_figure(\"results\", figure, epoch)\n",
    "\n",
    "        wandb.log({\"Val/loss\": val_loss, \"Val/accuracy\": val_acc, \"Val/f1\": val_f1})\n",
    "    model.train()\n",
    "    \n",
    "torch.save(best_model_acc, os.path.join(save_dir, f'{args.mode if args.mode else model_name}.pt'))\n",
    "torch.save(best_model_f1, os.path.join(save_dir, f'{args.mode if args.mode else model_name}_f1.pt'))\n",
    "model_mask_acc = best_model_acc\n",
    "model_mask_f1 = best_model_f1\n",
    "\n",
    "# logger.save_confusion_matrix(num_classes=valid_set.num_classes, labels=val_labels, preds=val_preds, save_path=os.path.join(save_dir, 'confusion_matrix.png'))"
   ],
   "outputs": [
    {
     "output_type": "stream",
     "name": "stdout",
     "text": [
      "Epoch: 01/10 [2641/2641]\n",
      "\tTraining - accuracy: 96.67%\tloss: 0.0593\tf1: 0.8958\tlr: 0.001\n",
      "\tValidation - accuracy: 96.98%\tloss: 0.14\tf1: 0.93\n",
      "\tNew best model for val accuracy : 96.98%! saving the best model..\n",
      "\tNew best model for f1 : 0.93! saving the best model..\n",
      "Epoch: 02/10 [2641/2641]\n",
      "\tTraining - accuracy: 90.00%\tloss: 0.2581\tf1: 0.9534\tlr: 0.001\n",
      "\tValidation - accuracy: 98.12%\tloss: 0.09\tf1: 0.96\n",
      "\tNew best model for val accuracy : 98.12%! saving the best model..\n",
      "\tNew best model for f1 : 0.96! saving the best model..\n",
      "Epoch: 03/10 [2641/2641]\n",
      "\tTraining - accuracy: 100.00%\tloss: 0.0510\tf1: 0.9640\tlr: 0.001\n",
      "\tValidation - accuracy: 97.65%\tloss: 0.09\tf1: 0.96\n",
      "Epoch: 04/10 [2641/2641]\n",
      "\tTraining - accuracy: 100.00%\tloss: 0.0118\tf1: 0.9751\tlr: 0.001\n",
      "\tValidation - accuracy: 97.46%\tloss: 0.10\tf1: 0.94\n",
      "Epoch: 05/10 [2641/2641]\n",
      "\tTraining - accuracy: 96.67%\tloss: 0.0490\tf1: 0.9774\tlr: 0.001\n",
      "\tValidation - accuracy: 97.33%\tloss: 0.12\tf1: 0.94\n",
      "Epoch: 06/10 [2641/2641]\n",
      "\tTraining - accuracy: 100.00%\tloss: 0.0179\tf1: 0.9761\tlr: 0.001\n",
      "\tValidation - accuracy: 97.78%\tloss: 0.08\tf1: 0.95\n",
      "Epoch: 07/10 [2641/2641]\n",
      "\tTraining - accuracy: 100.00%\tloss: 0.0515\tf1: 0.9823\tlr: 0.001\n",
      "\tValidation - accuracy: 93.36%\tloss: 0.26\tf1: 0.92\n",
      "Epoch: 08/10 [2641/2641]\n",
      "\tTraining - accuracy: 100.00%\tloss: 0.0043\tf1: 0.9848\tlr: 0.001\n",
      "\tValidation - accuracy: 98.12%\tloss: 0.07\tf1: 0.96\n",
      "Epoch: 09/10 [2641/2641]\n",
      "\tTraining - accuracy: 100.00%\tloss: 0.0230\tf1: 0.9809\tlr: 0.001\n",
      "\tValidation - accuracy: 98.04%\tloss: 0.08\tf1: 0.95\n",
      "Epoch: 10/10 [2641/2641]\n",
      "\tTraining - accuracy: 96.67%\tloss: 0.0718\tf1: 0.9853\tlr: 0.001\n",
      "\tValidation - accuracy: 95.58%\tloss: 0.13\tf1: 0.94\n"
     ]
    }
   ],
   "metadata": {}
  },
  {
   "cell_type": "markdown",
   "source": [
    "<br><br><br><br>"
   ],
   "metadata": {}
  },
  {
   "cell_type": "markdown",
   "source": [
    "# 모델 성능 체크\n",
    "---"
   ],
   "metadata": {}
  },
  {
   "cell_type": "code",
   "execution_count": 23,
   "source": [
    "def load_model(model_dir, device):\n",
    "    # model_path = os.path.join(model_dir, args.model_name)\n",
    "    model = torch.load(model_dir, map_location=device)\n",
    "    return model "
   ],
   "outputs": [],
   "metadata": {}
  },
  {
   "cell_type": "code",
   "execution_count": 27,
   "source": [
    "# # Acc Models\n",
    "# model_mask_acc\n",
    "# model_mask_age_acc\n",
    "# model_mask_gender_acc\n",
    "\n",
    "# # F1 Models\n",
    "# model_mask_f1\n",
    "# model_mask_age_f1\n",
    "# model_mask_gender_f1\n",
    "\n",
    "# # model_mask = load_model(Path(args.model_dir).joinpath('mask_model4.pt'), device)"
   ],
   "outputs": [],
   "metadata": {}
  },
  {
   "cell_type": "code",
   "execution_count": 30,
   "source": [
    "train_set = Dataset(train_df, mean=mean, std=std, label_col='Class')\n",
    "valid_set = Dataset(valid_df, mean=mean, std=std, label_col='Class')\n",
    "num_classes = valid_set.num_classes\n",
    "print(num_classes)\n",
    "\n",
    "Transforms = list(map(lambda trf: getattr(import_module(\"transform\"), trf), args.transform))\n",
    "\n",
    "\n",
    "# Validation Set Transform\n",
    "valid_transform = Transforms[0](\n",
    "    resize=args.resize,\n",
    "    mean=train_set.mean,\n",
    "    std=train_set.std,\n",
    ")\n",
    "valid_set.set_transform(valid_transform)\n",
    "\n",
    "valid_loader = DataLoader(\n",
    "    valid_set,\n",
    "    batch_size=1,\n",
    "    num_workers=mp.cpu_count() // 2,\n",
    "    shuffle=False,\n",
    "    pin_memory=is_cuda,\n",
    "    drop_last=True,\n",
    ")"
   ],
   "outputs": [
    {
     "output_type": "stream",
     "name": "stdout",
     "text": [
      "18\n"
     ]
    }
   ],
   "metadata": {}
  },
  {
   "cell_type": "code",
   "execution_count": 33,
   "source": [
    "with torch.no_grad():\n",
    "    val_loss_items = []\n",
    "    val_acc_items = []\n",
    "    val_f1_items = []\n",
    "\n",
    "    for val_batch in tqdm(valid_loader):\n",
    "        inputs, labels = val_batch\n",
    "\n",
    "        if epoch == args.epochs:\n",
    "            val_labels.extend(map(torch.Tensor.item, labels))\n",
    "\n",
    "        inputs = inputs.to(device)\n",
    "        labels = labels.to(device)\n",
    "\n",
    "        outs = model_mask_f1(inputs)\n",
    "        preds_mask = torch.argmax(outs, dim=-1)\n",
    "\n",
    "        # Mask Wear - 0: Wear, 1: Incorrect\n",
    "        if int(preds_mask) in [0,1]:\n",
    "            outs = model_mask_age_f1(inputs)\n",
    "            preds_age = torch.argmax(outs, dim=-1)\n",
    "\n",
    "            outs = model_mask_gender_f1(inputs)\n",
    "            preds_gender = torch.argmax(outs, dim=-1)      \n",
    "\n",
    "        # Mask Not Wear - 2: Not Wear\n",
    "        elif int(preds_mask) in [2]:\n",
    "            outs = model_nomask_age_f1(inputs)\n",
    "            preds_age = torch.argmax(outs, dim=-1)\n",
    "\n",
    "            outs = model_nomask_gender_f1(inputs)\n",
    "            preds_gender = torch.argmax(outs, dim=-1)      \n",
    "\n",
    "        else:\n",
    "            print(preds_mask)\n",
    "            raise ValueError\n",
    "\n",
    "        preds = 6*preds_mask + 3*preds_gender + preds_age\n",
    "\n",
    "        acc_item = (labels == preds).float().sum().item()\n",
    "        f1_item = f1_score(labels.cpu().numpy(), preds.cpu().numpy(), average='macro')\n",
    "        val_acc_items.append(acc_item)\n",
    "        val_f1_items.append(f1_item)\n",
    "\n",
    "        # if figure is None:\n",
    "        #     imgs = torch.clone(inputs).detach(\n",
    "        #     ).cpu().permute(0, 2, 3, 1).numpy()\n",
    "        #     imgs = train_set.denormalize_image(imgs, train_set.mean, train_set.std)\n",
    "        #     figure = logger.grid_image(\n",
    "        #         imgs=imgs, labels=labels, preds=preds,\n",
    "        #         n=16, shuffle=args.dataset != \"MaskSplitByProfileDataset\"\n",
    "        #     )\n",
    "\n",
    "    val_loss = np.sum(val_loss_items) / len(valid_loader)\n",
    "    val_acc = np.sum(val_acc_items) / len(valid_set)\n",
    "    val_f1 = np.average(val_f1_items)\n",
    "    best_val_loss = min(best_val_loss, val_loss)\n",
    "    print(\n",
    "        f'\\tValidation - accuracy: {val_acc:>3.2%}\\tloss: {val_loss:>4.2f}\\tf1: {val_f1:>4.2f}'\n",
    "\n",
    "        # f'Validation:\\n'\n",
    "        # f'accuracy: {val_acc:>3.2%}\\tloss: {val_loss:>4.2f}\\tf1: {val_f1:>4.2f}\\n'\n",
    "        # f'best acc : {best_val_acc:>3.2%}\\tbest loss: {best_val_loss:>4.2f}\\n'\n",
    "    )\n",
    "\n",
    "        # print(int(preds_mask), int(preds_gender), int(preds_age), '->', int(preds), '|', int(labels), '<-', int(labels)//6, int(labels)%6//3, int(labels)%6%3)\n"
   ],
   "outputs": [
    {
     "output_type": "stream",
     "name": "stderr",
     "text": [
      "100%|██████████| 3780/3780 [01:06<00:00, 56.43it/s]"
     ]
    },
    {
     "output_type": "stream",
     "name": "stdout",
     "text": [
      "\tValidation - accuracy: 75.82%\tloss: 0.00\tf1: 0.76\n"
     ]
    },
    {
     "output_type": "stream",
     "name": "stderr",
     "text": [
      "\n"
     ]
    }
   ],
   "metadata": {}
  },
  {
   "cell_type": "code",
   "execution_count": null,
   "source": [
    "def _show(tensor_image):\n",
    "    tensor_image = (tensor_image).to('cpu')\n",
    "\n",
    "    tensor_image = tensor_image.view(tensor_image.shape[1], tensor_image.shape[2], tensor_image.shape[0])\n",
    "    print(type(tensor_image), tensor_image.shape)\n",
    "\n",
    "    plt.imshow(tensor_image)\n",
    "    plt.show()\n",
    "# model_mask_acc(inputs)"
   ],
   "outputs": [],
   "metadata": {}
  }
 ],
 "metadata": {
  "orig_nbformat": 4,
  "language_info": {
   "name": "python",
   "version": "3.8.5",
   "mimetype": "text/x-python",
   "codemirror_mode": {
    "name": "ipython",
    "version": 3
   },
   "pygments_lexer": "ipython3",
   "nbconvert_exporter": "python",
   "file_extension": ".py"
  },
  "kernelspec": {
   "name": "python3",
   "display_name": "Python 3.8.5 64-bit ('base': conda)"
  },
  "interpreter": {
   "hash": "98b0a9b7b4eaaa670588a142fd0a9b87eaafe866f1db4228be72b4211d12040f"
  }
 },
 "nbformat": 4,
 "nbformat_minor": 2
}