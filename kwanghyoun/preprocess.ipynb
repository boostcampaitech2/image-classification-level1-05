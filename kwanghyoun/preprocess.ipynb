{
 "cells": [
  {
   "cell_type": "code",
   "execution_count": 1,
   "source": [
    "# System Libs\n",
    "import multiprocessing as mp\n",
    "import sys\n",
    "import os\n",
    "from glob import glob\n",
    "from time import time\n",
    "from pathlib import Path\n",
    "\n",
    "# Other Libs\n",
    "import pandas as pd\n",
    "import numpy as np\n",
    "import matplotlib.pyplot as plt\n",
    "import seaborn as sns\n",
    "import cv2\n",
    "import re\n",
    "from PIL import Image\n",
    "from tqdm.notebook import tqdm\n",
    "\n",
    "# Local Libs\n",
    "# None"
   ],
   "outputs": [],
   "metadata": {}
  },
  {
   "cell_type": "code",
   "execution_count": 2,
   "source": [
    "# Path Setting\n",
    "# Project Dir\n",
    "dir_project = Path('/opt/ml')\n",
    "\n",
    "# Code Dir\n",
    "dir_code = dir_project.joinpath('code')\n",
    "\n",
    "# Code Data\n",
    "dir_data = dir_project.joinpath('input/data')\n",
    "dir_eval = dir_data.joinpath('eval')\n",
    "dir_train = dir_data.joinpath('train')"
   ],
   "outputs": [],
   "metadata": {}
  },
  {
   "cell_type": "code",
   "execution_count": 3,
   "source": [
    "def get_ext(path, file_name):\n",
    "    \"\"\"\n",
    "    입력받은 경로(파일)의 확장자 반환\n",
    "\n",
    "    Args:\n",
    "    \n",
    "        path: 경로\n",
    "    Return:\n",
    "        exts: 확장자\n",
    "    \"\"\" \n",
    "    file_list = os.listdir(path)\n",
    "    \n",
    "    return path.split('.')[-1]\n",
    "\n",
    "\n",
    "def get_img_paths(path):\n",
    "    \"\"\"\n",
    "    Get full path list under entered path.\n",
    "\n",
    "    Args:\n",
    "        path: (string or path object) path.\n",
    "    Returns:\n",
    "        paths: (list) full path of image files under path.\n",
    "    \"\"\"\n",
    "    img_exts = ['jpg', 'jpeg', 'png']\n",
    "    file_list = os.listdir(path)\n",
    "\n",
    "    paths = []\n",
    "    for f in file_list:\n",
    "        if f[0] == '.':\n",
    "            continue\n",
    "        if '.' not in f[1:]:\n",
    "            continue\n",
    "        if f.split('.')[-1] not in img_exts:\n",
    "            continue\n",
    "        paths.append(Path(path).joinpath(f))\n",
    "\n",
    "    return paths\n"
   ],
   "outputs": [],
   "metadata": {}
  },
  {
   "cell_type": "code",
   "execution_count": 4,
   "source": [
    "def show_from_path(path, n_row, n_col):\n",
    "    \"\"\"\n",
    "    path 내의 이미지 파일을 출력\n",
    "\n",
    "    Args:\n",
    "        path\n",
    "    \"\"\"\n",
    "    paths = get_img_paths(path)\n",
    "    imgs = [np.array(Image.open(p)) for p in paths]\n",
    "    if n_row*n_col < len(imgs):\n",
    "        raise ValueError\n",
    "\n",
    "    figsize = (n_col*5, n_row*6)\n",
    "    fig, axes = plt.subplots(n_row, n_col, sharex=True, sharey=True, figsize=figsize)\n",
    "    for i, img in enumerate(imgs):\n",
    "        idx_col = i%n_col\n",
    "        idx_row = i//n_col\n",
    "        title = (str(paths[i]).split('/')[-1]).split('.')[0] # ./title.jpg -> title\n",
    "        axes[idx_row][idx_col].imshow(img)\n",
    "        axes[idx_row][idx_col].set_title(title, color='r')\n",
    "    plt.tight_layout()\n",
    "    plt.show()\n",
    "    "
   ],
   "outputs": [],
   "metadata": {}
  },
  {
   "cell_type": "markdown",
   "source": [
    "<br><br><br><br><br>\n"
   ],
   "metadata": {}
  },
  {
   "cell_type": "markdown",
   "source": [
    "## PREPROCESS\n",
    "---"
   ],
   "metadata": {}
  },
  {
   "cell_type": "code",
   "execution_count": 5,
   "source": [
    "train_df = pd.read_csv(dir_train.joinpath('train.csv'), header=0)\n",
    "dir_image = dir_train.joinpath('images')"
   ],
   "outputs": [],
   "metadata": {}
  },
  {
   "cell_type": "code",
   "execution_count": 6,
   "source": [
    "noise_gender_ids = ['006359', '006360', '006361', '006362', '006363', '006364']\n",
    "noise_mask_ids = ['000020', '004418', '005227']\n",
    "\n",
    "noise_gender = train_df[train_df.id.isin(noise_gender_ids)]\n",
    "noise_mask = train_df[train_df.id.isin(noise_mask_ids)]"
   ],
   "outputs": [],
   "metadata": {}
  },
  {
   "cell_type": "code",
   "execution_count": 7,
   "source": [
    "from itertools import product\n",
    "\n",
    "image_list = ['mask1', 'mask2', 'mask3', 'mask4', 'mask5', 'normal', 'incorrect_mask']\n",
    "images = pd.DataFrame(image_list, columns=['file'])\n",
    "\n",
    "train_df['key'] = 0\n",
    "images['key'] = 0\n",
    "\n",
    "train_df = train_df.merge(images, how='outer').drop(columns=['key'])"
   ],
   "outputs": [],
   "metadata": {}
  },
  {
   "cell_type": "code",
   "execution_count": 8,
   "source": [
    "def attach_ext(path):\n",
    "    file_list = os.listdir(path.parent)\n",
    "    file_list = [f for f in file_list if bool(re.match(f\"{path.name}+\", f))]\n",
    "\n",
    "    if len(file_list) == 1:\n",
    "        return path.parent.joinpath(file_list[0])\n",
    "    else:\n",
    "        raise ValueError(f\"Matched file exist {len(file_list)}\")\n",
    "\n",
    "\n",
    "def get_full_path(row):\n",
    "    folder_name = row.path\n",
    "    file_name = row.file\n",
    "    full_path = dir_train.joinpath('images').joinpath(folder_name).joinpath(file_name)\n",
    "    full_path = attach_ext(full_path)\n",
    "\n",
    "    return full_path"
   ],
   "outputs": [],
   "metadata": {}
  },
  {
   "cell_type": "code",
   "execution_count": 9,
   "source": [
    "full_path = train_df.T.apply(lambda row: get_full_path(row)).T\n",
    "\n",
    "train_df['full_path'] = full_path\n",
    "train_df.head(1)"
   ],
   "outputs": [
    {
     "output_type": "execute_result",
     "data": {
      "text/plain": [
       "       id  gender   race  age                    path   file  \\\n",
       "0  000001  female  Asian   45  000001_female_Asian_45  mask1   \n",
       "\n",
       "                                           full_path  \n",
       "0  /opt/ml/input/data/train/images/000001_female_...  "
      ],
      "text/html": [
       "<div>\n",
       "<style scoped>\n",
       "    .dataframe tbody tr th:only-of-type {\n",
       "        vertical-align: middle;\n",
       "    }\n",
       "\n",
       "    .dataframe tbody tr th {\n",
       "        vertical-align: top;\n",
       "    }\n",
       "\n",
       "    .dataframe thead th {\n",
       "        text-align: right;\n",
       "    }\n",
       "</style>\n",
       "<table border=\"1\" class=\"dataframe\">\n",
       "  <thead>\n",
       "    <tr style=\"text-align: right;\">\n",
       "      <th></th>\n",
       "      <th>id</th>\n",
       "      <th>gender</th>\n",
       "      <th>race</th>\n",
       "      <th>age</th>\n",
       "      <th>path</th>\n",
       "      <th>file</th>\n",
       "      <th>full_path</th>\n",
       "    </tr>\n",
       "  </thead>\n",
       "  <tbody>\n",
       "    <tr>\n",
       "      <th>0</th>\n",
       "      <td>000001</td>\n",
       "      <td>female</td>\n",
       "      <td>Asian</td>\n",
       "      <td>45</td>\n",
       "      <td>000001_female_Asian_45</td>\n",
       "      <td>mask1</td>\n",
       "      <td>/opt/ml/input/data/train/images/000001_female_...</td>\n",
       "    </tr>\n",
       "  </tbody>\n",
       "</table>\n",
       "</div>"
      ]
     },
     "metadata": {},
     "execution_count": 9
    }
   ],
   "metadata": {}
  },
  {
   "cell_type": "markdown",
   "source": [
    "### NOISE LABEL CHECK\n",
    "---"
   ],
   "metadata": {}
  },
  {
   "cell_type": "code",
   "execution_count": 10,
   "source": [
    "## Print\n",
    "# for idx, row in noise_gender.iterrows():\n",
    "#     path = dir_image.joinpath(row['path'])\n",
    "#     show_from_path(path, 2, 4)"
   ],
   "outputs": [],
   "metadata": {}
  },
  {
   "cell_type": "code",
   "execution_count": 11,
   "source": [
    "# # Print\n",
    "# for idx, row in noise_mask.iterrows():\n",
    "#     path = dir_image.joinpath(row['path'])\n",
    "#     show_from_path(path, 2, 4)"
   ],
   "outputs": [],
   "metadata": {}
  },
  {
   "cell_type": "markdown",
   "source": [
    "### GENERATE LABEL\n",
    "---\n"
   ],
   "metadata": {}
  },
  {
   "cell_type": "code",
   "execution_count": 12,
   "source": [
    "import re\n",
    "\n",
    "def label_mask(file_name):\n",
    "    if bool(re.match(\"mask[0-9]+\", file_name)):\n",
    "        return (\"Wear\", 0)\n",
    "    elif bool(re.match(\"incorrect_mask+\", file_name)):\n",
    "        return (\"Incorrect\", 6)\n",
    "    elif bool(re.match(\"normal+\", file_name)):\n",
    "        return (\"Not Wear\", 12)\n",
    "    else:\n",
    "        raise ValueError(f\"Invalid Mask Value {file_name}\")\n",
    "\n",
    "def label_age(age):\n",
    "    age = int(age)\n",
    "    if age < 30:\n",
    "        return (\"< 30\", 0)\n",
    "    elif age < 60:\n",
    "        return (\">= 30 and < 60\", 1)\n",
    "    elif age >= 60:\n",
    "        return (\">= 60\", 2)\n",
    "    else:\n",
    "        raise ValueError(f\"Invalid Age Value {age}\")\n",
    "\n",
    "def label_gender(gender):\n",
    "    if gender.upper() == \"MALE\":\n",
    "        return (\"Male\", 0)\n",
    "    elif gender.upper() == \"FEMALE\":\n",
    "        return (\"Female\", 3)\n",
    "    else:\n",
    "        raise ValueError(f\"Invalid Gender Value {gender}\")\n",
    "\n",
    "def generate_label(row):\n",
    "    names = [\"Mask\", \"Age\", \"Gender\", \"Class\"]\n",
    "\n",
    "    mask = label_mask(row.file)\n",
    "    age = label_age(row.age)\n",
    "    gender = label_gender(row.gender)\n",
    "    label = mask[1]+age[1]+gender[1]\n",
    "\n",
    "    label = pd.Series([mask[0], age[0], gender[0], label], index=names)\n",
    "    return label\n"
   ],
   "outputs": [],
   "metadata": {}
  },
  {
   "cell_type": "code",
   "execution_count": 13,
   "source": [
    "label = train_df.T.apply(lambda x: generate_label(x)).T\n",
    "train_df = train_df[['id', 'full_path']]\n",
    "train_df = pd.concat([train_df, label], axis=1)"
   ],
   "outputs": [],
   "metadata": {}
  },
  {
   "cell_type": "markdown",
   "source": [
    "### CORRECT LABEL\n",
    "---\n"
   ],
   "metadata": {}
  },
  {
   "cell_type": "markdown",
   "source": [
    "Gender Label"
   ],
   "metadata": {}
  },
  {
   "cell_type": "code",
   "execution_count": 14,
   "source": [
    "# Female To Male\n",
    "noise_gender"
   ],
   "outputs": [
    {
     "output_type": "execute_result",
     "data": {
      "text/plain": [
       "          id  gender   race  age                    path\n",
       "2399  006359  female  Asian   18  006359_female_Asian_18\n",
       "2400  006360  female  Asian   18  006360_female_Asian_18\n",
       "2401  006361  female  Asian   18  006361_female_Asian_18\n",
       "2402  006362  female  Asian   18  006362_female_Asian_18\n",
       "2403  006363  female  Asian   18  006363_female_Asian_18\n",
       "2404  006364  female  Asian   18  006364_female_Asian_18"
      ],
      "text/html": [
       "<div>\n",
       "<style scoped>\n",
       "    .dataframe tbody tr th:only-of-type {\n",
       "        vertical-align: middle;\n",
       "    }\n",
       "\n",
       "    .dataframe tbody tr th {\n",
       "        vertical-align: top;\n",
       "    }\n",
       "\n",
       "    .dataframe thead th {\n",
       "        text-align: right;\n",
       "    }\n",
       "</style>\n",
       "<table border=\"1\" class=\"dataframe\">\n",
       "  <thead>\n",
       "    <tr style=\"text-align: right;\">\n",
       "      <th></th>\n",
       "      <th>id</th>\n",
       "      <th>gender</th>\n",
       "      <th>race</th>\n",
       "      <th>age</th>\n",
       "      <th>path</th>\n",
       "    </tr>\n",
       "  </thead>\n",
       "  <tbody>\n",
       "    <tr>\n",
       "      <th>2399</th>\n",
       "      <td>006359</td>\n",
       "      <td>female</td>\n",
       "      <td>Asian</td>\n",
       "      <td>18</td>\n",
       "      <td>006359_female_Asian_18</td>\n",
       "    </tr>\n",
       "    <tr>\n",
       "      <th>2400</th>\n",
       "      <td>006360</td>\n",
       "      <td>female</td>\n",
       "      <td>Asian</td>\n",
       "      <td>18</td>\n",
       "      <td>006360_female_Asian_18</td>\n",
       "    </tr>\n",
       "    <tr>\n",
       "      <th>2401</th>\n",
       "      <td>006361</td>\n",
       "      <td>female</td>\n",
       "      <td>Asian</td>\n",
       "      <td>18</td>\n",
       "      <td>006361_female_Asian_18</td>\n",
       "    </tr>\n",
       "    <tr>\n",
       "      <th>2402</th>\n",
       "      <td>006362</td>\n",
       "      <td>female</td>\n",
       "      <td>Asian</td>\n",
       "      <td>18</td>\n",
       "      <td>006362_female_Asian_18</td>\n",
       "    </tr>\n",
       "    <tr>\n",
       "      <th>2403</th>\n",
       "      <td>006363</td>\n",
       "      <td>female</td>\n",
       "      <td>Asian</td>\n",
       "      <td>18</td>\n",
       "      <td>006363_female_Asian_18</td>\n",
       "    </tr>\n",
       "    <tr>\n",
       "      <th>2404</th>\n",
       "      <td>006364</td>\n",
       "      <td>female</td>\n",
       "      <td>Asian</td>\n",
       "      <td>18</td>\n",
       "      <td>006364_female_Asian_18</td>\n",
       "    </tr>\n",
       "  </tbody>\n",
       "</table>\n",
       "</div>"
      ]
     },
     "metadata": {},
     "execution_count": 14
    }
   ],
   "metadata": {}
  },
  {
   "cell_type": "code",
   "execution_count": 15,
   "source": [
    "def correct_gender_noise(df, ids, correct_value='Male', inplace=False):\n",
    "    if not inplace:\n",
    "        df = df.copy()\n",
    "\n",
    "    correct_req = train_df.loc[(train_df.id.isin(ids)) & (train_df.Gender != correct_value)]\n",
    "    correct_n = correct_req.index.size\n",
    "    print(f\"{correct_n} label corrected - from {correct_req.Gender.unique()} to {correct_value}.\")\n",
    "\n",
    "    if correct_n > 0:\n",
    "        _correct_class = -3 if correct_value == 'Male' else 3\n",
    "        df.loc[correct_req.index, 'Gender'] = correct_value\n",
    "        df.loc[correct_req.index, 'Class'] = df.loc[correct_req.index, 'Class'] + _correct_class\n",
    "\n",
    "    return df\n"
   ],
   "outputs": [],
   "metadata": {}
  },
  {
   "cell_type": "code",
   "execution_count": 16,
   "source": [
    "train_df = correct_gender_noise(train_df, noise_gender_ids)"
   ],
   "outputs": [
    {
     "output_type": "stream",
     "name": "stdout",
     "text": [
      "42 label corrected - from ['Female'] to Male.\n"
     ]
    }
   ],
   "metadata": {}
  },
  {
   "cell_type": "markdown",
   "source": [
    "<br>"
   ],
   "metadata": {}
  },
  {
   "cell_type": "markdown",
   "source": [
    "Mask Label"
   ],
   "metadata": {}
  },
  {
   "cell_type": "code",
   "execution_count": 17,
   "source": [
    "# Swap 'noraml' and 'incorrect'\n",
    "noise_mask"
   ],
   "outputs": [
    {
     "output_type": "execute_result",
     "data": {
      "text/plain": [
       "          id  gender   race  age                    path\n",
       "15    000020  female  Asian   50  000020_female_Asian_50\n",
       "1899  004418    male  Asian   20    004418_male_Asian_20\n",
       "2068  005227    male  Asian   22    005227_male_Asian_22"
      ],
      "text/html": [
       "<div>\n",
       "<style scoped>\n",
       "    .dataframe tbody tr th:only-of-type {\n",
       "        vertical-align: middle;\n",
       "    }\n",
       "\n",
       "    .dataframe tbody tr th {\n",
       "        vertical-align: top;\n",
       "    }\n",
       "\n",
       "    .dataframe thead th {\n",
       "        text-align: right;\n",
       "    }\n",
       "</style>\n",
       "<table border=\"1\" class=\"dataframe\">\n",
       "  <thead>\n",
       "    <tr style=\"text-align: right;\">\n",
       "      <th></th>\n",
       "      <th>id</th>\n",
       "      <th>gender</th>\n",
       "      <th>race</th>\n",
       "      <th>age</th>\n",
       "      <th>path</th>\n",
       "    </tr>\n",
       "  </thead>\n",
       "  <tbody>\n",
       "    <tr>\n",
       "      <th>15</th>\n",
       "      <td>000020</td>\n",
       "      <td>female</td>\n",
       "      <td>Asian</td>\n",
       "      <td>50</td>\n",
       "      <td>000020_female_Asian_50</td>\n",
       "    </tr>\n",
       "    <tr>\n",
       "      <th>1899</th>\n",
       "      <td>004418</td>\n",
       "      <td>male</td>\n",
       "      <td>Asian</td>\n",
       "      <td>20</td>\n",
       "      <td>004418_male_Asian_20</td>\n",
       "    </tr>\n",
       "    <tr>\n",
       "      <th>2068</th>\n",
       "      <td>005227</td>\n",
       "      <td>male</td>\n",
       "      <td>Asian</td>\n",
       "      <td>22</td>\n",
       "      <td>005227_male_Asian_22</td>\n",
       "    </tr>\n",
       "  </tbody>\n",
       "</table>\n",
       "</div>"
      ]
     },
     "metadata": {},
     "execution_count": 17
    }
   ],
   "metadata": {}
  },
  {
   "cell_type": "code",
   "execution_count": 18,
   "source": [
    "correct_req = train_df.loc[(train_df.id.isin(noise_mask_ids)) & (train_df.Mask.isin(['Not Wear', 'Incorrect']))]\n",
    "to_incorrect = correct_req[correct_req.Mask == 'Not Wear']\n",
    "to_notwear = correct_req[correct_req.Mask == 'Incorrect']\n",
    "\n",
    "# Not Wear → Incorrect\n",
    "# Label -6\n",
    "train_df.loc[to_incorrect.index, 'Mask'] = 'Incorrect'\n",
    "train_df.loc[to_incorrect.index, 'Class'] = train_df.loc[to_incorrect.index, 'Class'] - 6\n",
    "\n",
    "# Incorrect → Not Wear\n",
    "# Label +6\n",
    "train_df.loc[to_notwear.index, 'Mask'] = 'Not Wear'\n",
    "train_df.loc[to_notwear.index, 'Class'] = train_df.loc[to_notwear.index, 'Class'] + 6"
   ],
   "outputs": [],
   "metadata": {}
  },
  {
   "cell_type": "code",
   "execution_count": 19,
   "source": [
    "train_df = train_df.rename(columns=dict(full_path='path'))\n",
    "train_df.to_csv(dir_train.joinpath('train_processed.csv'))\n",
    "train_df.head(3)"
   ],
   "outputs": [
    {
     "output_type": "execute_result",
     "data": {
      "text/plain": [
       "       id                                               path  Mask  \\\n",
       "0  000001  /opt/ml/input/data/train/images/000001_female_...  Wear   \n",
       "1  000001  /opt/ml/input/data/train/images/000001_female_...  Wear   \n",
       "2  000001  /opt/ml/input/data/train/images/000001_female_...  Wear   \n",
       "\n",
       "              Age  Gender Class  \n",
       "0  >= 30 and < 60  Female     4  \n",
       "1  >= 30 and < 60  Female     4  \n",
       "2  >= 30 and < 60  Female     4  "
      ],
      "text/html": [
       "<div>\n",
       "<style scoped>\n",
       "    .dataframe tbody tr th:only-of-type {\n",
       "        vertical-align: middle;\n",
       "    }\n",
       "\n",
       "    .dataframe tbody tr th {\n",
       "        vertical-align: top;\n",
       "    }\n",
       "\n",
       "    .dataframe thead th {\n",
       "        text-align: right;\n",
       "    }\n",
       "</style>\n",
       "<table border=\"1\" class=\"dataframe\">\n",
       "  <thead>\n",
       "    <tr style=\"text-align: right;\">\n",
       "      <th></th>\n",
       "      <th>id</th>\n",
       "      <th>path</th>\n",
       "      <th>Mask</th>\n",
       "      <th>Age</th>\n",
       "      <th>Gender</th>\n",
       "      <th>Class</th>\n",
       "    </tr>\n",
       "  </thead>\n",
       "  <tbody>\n",
       "    <tr>\n",
       "      <th>0</th>\n",
       "      <td>000001</td>\n",
       "      <td>/opt/ml/input/data/train/images/000001_female_...</td>\n",
       "      <td>Wear</td>\n",
       "      <td>&gt;= 30 and &lt; 60</td>\n",
       "      <td>Female</td>\n",
       "      <td>4</td>\n",
       "    </tr>\n",
       "    <tr>\n",
       "      <th>1</th>\n",
       "      <td>000001</td>\n",
       "      <td>/opt/ml/input/data/train/images/000001_female_...</td>\n",
       "      <td>Wear</td>\n",
       "      <td>&gt;= 30 and &lt; 60</td>\n",
       "      <td>Female</td>\n",
       "      <td>4</td>\n",
       "    </tr>\n",
       "    <tr>\n",
       "      <th>2</th>\n",
       "      <td>000001</td>\n",
       "      <td>/opt/ml/input/data/train/images/000001_female_...</td>\n",
       "      <td>Wear</td>\n",
       "      <td>&gt;= 30 and &lt; 60</td>\n",
       "      <td>Female</td>\n",
       "      <td>4</td>\n",
       "    </tr>\n",
       "  </tbody>\n",
       "</table>\n",
       "</div>"
      ]
     },
     "metadata": {},
     "execution_count": 19
    }
   ],
   "metadata": {}
  },
  {
   "cell_type": "markdown",
   "source": [
    "<br>\n",
    "\n",
    "# <center> - END - </center>"
   ],
   "metadata": {}
  },
  {
   "cell_type": "code",
   "execution_count": 32,
   "source": [
    "print(train_df[['Mask', 'Age', 'Gender', 'Class']].describe())\n",
    "\n",
    "print(\"MASK\", train_df['Mask'].value_counts(), sep='\\n', end='\\n\\n')\n",
    "print(\"Age\", train_df['Age'].value_counts(), sep='\\n', end='\\n\\n')\n",
    "print(\"Gender\", train_df['Gender'].value_counts(), sep='\\n', end='\\n\\n')\n",
    "print(\"Class\", train_df['Class'].value_counts(), sep='\\n', end='\\n\\n')\n"
   ],
   "outputs": [
    {
     "output_type": "stream",
     "name": "stdout",
     "text": [
      "         Mask    Age  Gender  Class\n",
      "count   18900  18900   18900  18900\n",
      "unique      3      3       2     18\n",
      "top      Wear   < 30  Female      4\n",
      "freq    13500   8967   11564   4085\n",
      "MASK\n",
      "Wear         13500\n",
      "Incorrect     2700\n",
      "Not Wear      2700\n",
      "Name: Mask, dtype: int64\n",
      "\n",
      "Age\n",
      "< 30              8967\n",
      ">= 30 and < 60    8589\n",
      ">= 60             1344\n",
      "Name: Age, dtype: int64\n",
      "\n",
      "Gender\n",
      "Female    11564\n",
      "Male       7336\n",
      "Name: Gender, dtype: int64\n",
      "\n",
      "Class\n",
      "4     4085\n",
      "3     3630\n",
      "0     2775\n",
      "1     2050\n",
      "10     817\n",
      "16     817\n",
      "15     726\n",
      "9      726\n",
      "12     555\n",
      "6      555\n",
      "5      545\n",
      "2      415\n",
      "13     410\n",
      "7      410\n",
      "17     109\n",
      "11     109\n",
      "14      83\n",
      "8       83\n",
      "Name: Class, dtype: int64\n",
      "\n"
     ]
    }
   ],
   "metadata": {}
  },
  {
   "cell_type": "code",
   "execution_count": null,
   "source": [],
   "outputs": [],
   "metadata": {}
  },
  {
   "cell_type": "code",
   "execution_count": null,
   "source": [],
   "outputs": [],
   "metadata": {}
  },
  {
   "cell_type": "markdown",
   "source": [],
   "metadata": {}
  }
 ],
 "metadata": {
  "orig_nbformat": 4,
  "language_info": {
   "name": "python",
   "version": "3.8.5",
   "mimetype": "text/x-python",
   "codemirror_mode": {
    "name": "ipython",
    "version": 3
   },
   "pygments_lexer": "ipython3",
   "nbconvert_exporter": "python",
   "file_extension": ".py"
  },
  "kernelspec": {
   "name": "python3",
   "display_name": "Python 3.8.5 64-bit ('base': conda)"
  },
  "interpreter": {
   "hash": "98b0a9b7b4eaaa670588a142fd0a9b87eaafe866f1db4228be72b4211d12040f"
  }
 },
 "nbformat": 4,
 "nbformat_minor": 2
}