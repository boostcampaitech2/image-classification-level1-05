{
 "cells": [
  {
   "cell_type": "markdown",
   "source": [
    "# Usage Example\n",
    "---\n",
    "- DataSet\n",
    "- processed_train.csv"
   ],
   "metadata": {}
  },
  {
   "cell_type": "code",
   "execution_count": 1,
   "source": [
    "# System Libs\n",
    "import multiprocessing as mp\n",
    "import sys\n",
    "import os\n",
    "from glob import glob\n",
    "from time import time\n",
    "from pathlib import Path\n",
    "\n",
    "# Other Libs\n",
    "import pandas as pd\n",
    "import numpy as np\n",
    "import matplotlib.pyplot as plt\n",
    "import seaborn as sns\n",
    "import cv2\n",
    "from sklearn.metrics import f1_score\n",
    "from PIL import Image\n",
    "from tqdm import tqdm\n",
    "\n",
    "# Torch\n",
    "import torch\n",
    "import torch.nn as nn\n",
    "import torch.nn.functional as F\n",
    "from torch import optim\n",
    "from torch.utils.data import Dataset, DataLoader\n",
    "from torchvision import transforms\n",
    "from torchvision.transforms import CenterCrop, Resize, ToTensor, Normalize\n",
    "device = (\"cuda\" if torch.cuda.is_available() else \"cpu\")\n",
    "print(device)\n",
    "\n",
    "# Local Libs\n",
    "import data_utils\n",
    "# from data_utils import MaskClassifierDataset"
   ],
   "outputs": [
    {
     "output_type": "stream",
     "name": "stdout",
     "text": [
      "cuda\n"
     ]
    }
   ],
   "metadata": {}
  },
  {
   "cell_type": "code",
   "execution_count": 6,
   "source": [
    "# 데이터 값 실수. 소수점 넷째자리까지 표시\n",
    "pd.options.display.float_format = '{:.4f}'.format\n",
    "\n",
    "data_df = pd.read_csv('processed_train.csv', header=0)"
   ],
   "outputs": [],
   "metadata": {}
  },
  {
   "cell_type": "markdown",
   "source": [
    "<br>\n",
    "<br>"
   ],
   "metadata": {}
  },
  {
   "cell_type": "markdown",
   "source": [
    "# DATASET\n",
    "---"
   ],
   "metadata": {}
  },
  {
   "cell_type": "markdown",
   "source": [
    "## Sample Split\n",
    "---"
   ],
   "metadata": {}
  },
  {
   "cell_type": "code",
   "execution_count": 17,
   "source": [
    "# Case2 - 사진별 샘플 분할\n",
    "# data, train, valid 마스크 분포 상이함\n",
    "train, valid = data_utils.train_test_split_df(data_df, crit_col='FullPath', test_size=0.1)\n",
    "df_dict = dict(data=data_df, train=train, valid=valid)\n",
    "\n",
    "data_utils.dist_analysis(df_dict).xs('Ratio', axis=1, level=1)\n"
   ],
   "outputs": [
    {
     "output_type": "execute_result",
     "data": {
      "text/plain": [
       "                        data  train  valid\n",
       "Age    < 30           0.4744 0.4726 0.4910\n",
       "       >= 30 and < 60 0.4544 0.4566 0.4349\n",
       "       >= 60          0.0711 0.0708 0.0741\n",
       "Gender Female         0.6119 0.6138 0.5942\n",
       "       Male           0.3881 0.3862 0.4058\n",
       "Mask   Incorrect      0.1429 0.1436 0.1365\n",
       "       Not Wear       0.1429 0.1434 0.1381\n",
       "       Wear           0.7143 0.7131 0.7254"
      ],
      "text/html": [
       "<div>\n",
       "<style scoped>\n",
       "    .dataframe tbody tr th:only-of-type {\n",
       "        vertical-align: middle;\n",
       "    }\n",
       "\n",
       "    .dataframe tbody tr th {\n",
       "        vertical-align: top;\n",
       "    }\n",
       "\n",
       "    .dataframe thead th {\n",
       "        text-align: right;\n",
       "    }\n",
       "</style>\n",
       "<table border=\"1\" class=\"dataframe\">\n",
       "  <thead>\n",
       "    <tr style=\"text-align: right;\">\n",
       "      <th></th>\n",
       "      <th></th>\n",
       "      <th>data</th>\n",
       "      <th>train</th>\n",
       "      <th>valid</th>\n",
       "    </tr>\n",
       "  </thead>\n",
       "  <tbody>\n",
       "    <tr>\n",
       "      <th rowspan=\"3\" valign=\"top\">Age</th>\n",
       "      <th>&lt; 30</th>\n",
       "      <td>0.4744</td>\n",
       "      <td>0.4726</td>\n",
       "      <td>0.4910</td>\n",
       "    </tr>\n",
       "    <tr>\n",
       "      <th>&gt;= 30 and &lt; 60</th>\n",
       "      <td>0.4544</td>\n",
       "      <td>0.4566</td>\n",
       "      <td>0.4349</td>\n",
       "    </tr>\n",
       "    <tr>\n",
       "      <th>&gt;= 60</th>\n",
       "      <td>0.0711</td>\n",
       "      <td>0.0708</td>\n",
       "      <td>0.0741</td>\n",
       "    </tr>\n",
       "    <tr>\n",
       "      <th rowspan=\"2\" valign=\"top\">Gender</th>\n",
       "      <th>Female</th>\n",
       "      <td>0.6119</td>\n",
       "      <td>0.6138</td>\n",
       "      <td>0.5942</td>\n",
       "    </tr>\n",
       "    <tr>\n",
       "      <th>Male</th>\n",
       "      <td>0.3881</td>\n",
       "      <td>0.3862</td>\n",
       "      <td>0.4058</td>\n",
       "    </tr>\n",
       "    <tr>\n",
       "      <th rowspan=\"3\" valign=\"top\">Mask</th>\n",
       "      <th>Incorrect</th>\n",
       "      <td>0.1429</td>\n",
       "      <td>0.1436</td>\n",
       "      <td>0.1365</td>\n",
       "    </tr>\n",
       "    <tr>\n",
       "      <th>Not Wear</th>\n",
       "      <td>0.1429</td>\n",
       "      <td>0.1434</td>\n",
       "      <td>0.1381</td>\n",
       "    </tr>\n",
       "    <tr>\n",
       "      <th>Wear</th>\n",
       "      <td>0.7143</td>\n",
       "      <td>0.7131</td>\n",
       "      <td>0.7254</td>\n",
       "    </tr>\n",
       "  </tbody>\n",
       "</table>\n",
       "</div>"
      ]
     },
     "metadata": {},
     "execution_count": 17
    }
   ],
   "metadata": {}
  },
  {
   "cell_type": "code",
   "execution_count": 19,
   "source": [
    "# Case2 - 사람별(폴더별) 샘플 분할\n",
    "# data, train, valid 마스크 분포 동일함\n",
    "train, valid = data_utils.train_test_split_df(data_df, crit_col='path', test_size=0.1)\n",
    "df_dict = dict(data=data_df, train=train, valid=valid)\n",
    "\n",
    "data_utils.dist_analysis(df_dict).xs('Ratio', axis=1, level=1)"
   ],
   "outputs": [
    {
     "output_type": "execute_result",
     "data": {
      "text/plain": [
       "                        data  train  valid\n",
       "Mask   Wear           0.7143 0.7143 0.7143\n",
       "       Incorrect      0.1429 0.1429 0.1429\n",
       "       Not Wear       0.1429 0.1429 0.1429\n",
       "Age    < 30           0.4744 0.4733 0.4852\n",
       "       >= 30 and < 60 0.4544 0.4523 0.4741\n",
       "       >= 60          0.0711 0.0745 0.0407\n",
       "Gender Female         0.6119 0.6074 0.6519\n",
       "       Male           0.3881 0.3926 0.3481"
      ],
      "text/html": [
       "<div>\n",
       "<style scoped>\n",
       "    .dataframe tbody tr th:only-of-type {\n",
       "        vertical-align: middle;\n",
       "    }\n",
       "\n",
       "    .dataframe tbody tr th {\n",
       "        vertical-align: top;\n",
       "    }\n",
       "\n",
       "    .dataframe thead th {\n",
       "        text-align: right;\n",
       "    }\n",
       "</style>\n",
       "<table border=\"1\" class=\"dataframe\">\n",
       "  <thead>\n",
       "    <tr style=\"text-align: right;\">\n",
       "      <th></th>\n",
       "      <th></th>\n",
       "      <th>data</th>\n",
       "      <th>train</th>\n",
       "      <th>valid</th>\n",
       "    </tr>\n",
       "  </thead>\n",
       "  <tbody>\n",
       "    <tr>\n",
       "      <th rowspan=\"3\" valign=\"top\">Mask</th>\n",
       "      <th>Wear</th>\n",
       "      <td>0.7143</td>\n",
       "      <td>0.7143</td>\n",
       "      <td>0.7143</td>\n",
       "    </tr>\n",
       "    <tr>\n",
       "      <th>Incorrect</th>\n",
       "      <td>0.1429</td>\n",
       "      <td>0.1429</td>\n",
       "      <td>0.1429</td>\n",
       "    </tr>\n",
       "    <tr>\n",
       "      <th>Not Wear</th>\n",
       "      <td>0.1429</td>\n",
       "      <td>0.1429</td>\n",
       "      <td>0.1429</td>\n",
       "    </tr>\n",
       "    <tr>\n",
       "      <th rowspan=\"3\" valign=\"top\">Age</th>\n",
       "      <th>&lt; 30</th>\n",
       "      <td>0.4744</td>\n",
       "      <td>0.4733</td>\n",
       "      <td>0.4852</td>\n",
       "    </tr>\n",
       "    <tr>\n",
       "      <th>&gt;= 30 and &lt; 60</th>\n",
       "      <td>0.4544</td>\n",
       "      <td>0.4523</td>\n",
       "      <td>0.4741</td>\n",
       "    </tr>\n",
       "    <tr>\n",
       "      <th>&gt;= 60</th>\n",
       "      <td>0.0711</td>\n",
       "      <td>0.0745</td>\n",
       "      <td>0.0407</td>\n",
       "    </tr>\n",
       "    <tr>\n",
       "      <th rowspan=\"2\" valign=\"top\">Gender</th>\n",
       "      <th>Female</th>\n",
       "      <td>0.6119</td>\n",
       "      <td>0.6074</td>\n",
       "      <td>0.6519</td>\n",
       "    </tr>\n",
       "    <tr>\n",
       "      <th>Male</th>\n",
       "      <td>0.3881</td>\n",
       "      <td>0.3926</td>\n",
       "      <td>0.3481</td>\n",
       "    </tr>\n",
       "  </tbody>\n",
       "</table>\n",
       "</div>"
      ]
     },
     "metadata": {},
     "execution_count": 19
    }
   ],
   "metadata": {}
  },
  {
   "cell_type": "markdown",
   "source": [
    "## Dataset\n",
    "---"
   ],
   "metadata": {}
  },
  {
   "cell_type": "code",
   "execution_count": 22,
   "source": [
    "# Train & Validation Dataset\n",
    "transform = transforms.Compose(\n",
    "    [\n",
    "        transforms.ToTensor()\n",
    "    ]\n",
    ")\n",
    "\n",
    "trainset = data_utils.MaskClassifierDataset(train['FullPath'], train['Class'], transform=transform)\n",
    "validset = data_utils.MaskClassifierDataset(valid['FullPath'], valid['Class'], transform=transform)"
   ],
   "outputs": [],
   "metadata": {}
  },
  {
   "cell_type": "code",
   "execution_count": 32,
   "source": [
    "# 마스크 착용 여부만 학습시키는 경우\n",
    "# Column Name = ClassMask\n",
    "paths = mask_df['FullPath']\n",
    "labels = mask_df['ClassMask']\n",
    "\n",
    "trainset = data_utils.MaskClassifierDataset(train['FullPath'], train['ClassMask'], transform=transform)\n",
    "validset = data_utils.MaskClassifierDataset(valid['FullPath'], valid['ClassMask'], transform=transform)\n"
   ],
   "outputs": [],
   "metadata": {}
  },
  {
   "cell_type": "code",
   "execution_count": 34,
   "source": [
    "# 마스크 착용 데이터만 추출하는 경우\n",
    "# 이 경우 라벨값은 적절히 수정할 필요가 있음!\n",
    "mask_df = data_df[~data_df['Mask'].isin(['Not Wear'])]\n",
    "print(f\"Total Size : {data_df.index.size}\")\n",
    "print(f\"Wear Mask : {mask_df.index.size}\")"
   ],
   "outputs": [
    {
     "output_type": "stream",
     "name": "stdout",
     "text": [
      "Total Size : 18900\n",
      "Wear Mask : 16200\n"
     ]
    }
   ],
   "metadata": {}
  },
  {
   "cell_type": "markdown",
   "source": [
    "<br><br><br><br><br>\n",
    "\n",
    "# PROCESSED_TRAIN.CSV\n",
    "---"
   ],
   "metadata": {}
  },
  {
   "cell_type": "markdown",
   "source": [
    "## 경로 및 라벨 추출\n",
    "---"
   ],
   "metadata": {}
  },
  {
   "cell_type": "code",
   "execution_count": 7,
   "source": [
    "paths = train_df['FullPath']\n",
    "labels = train_df['Class']\n",
    "\n",
    "print(f\"label, path example: \\nlabel: {labels[0]}\\npath: {paths[0]}\")"
   ],
   "outputs": [
    {
     "output_type": "stream",
     "name": "stdout",
     "text": [
      "label, path example: \n",
      "label: 4\n",
      "path: /opt/ml/input/data/train/images/000001_female_Asian_45/mask1.jpg\n"
     ]
    }
   ],
   "metadata": {}
  },
  {
   "cell_type": "markdown",
   "source": [
    "<br><br>\n",
    "## 경로 변경\n",
    "---\n",
    "- 훈련 데이터의 이미지 폴더가 /opt/ml/input/data/train/images가 아닌 경우"
   ],
   "metadata": {}
  },
  {
   "cell_type": "code",
   "execution_count": 8,
   "source": [
    "from pathlib import Path"
   ],
   "outputs": [],
   "metadata": {}
  },
  {
   "cell_type": "code",
   "execution_count": 9,
   "source": [
    "def update_full_path(train_df, dir_images):\n",
    "    train_df = train_df.copy()\n",
    "    \n",
    "    train_df['FullPath'] = str(Path(dir_images)) + '/'\n",
    "    train_df['FullPath'] = train_df['FullPath'].str.cat(train_df['Path'])\n",
    "\n",
    "    return train_df\n",
    "\n",
    "dir_images = 'C://user/images'\n",
    "train_df_updated = update_full_path(train_df, dir_images)"
   ],
   "outputs": [],
   "metadata": {}
  },
  {
   "cell_type": "code",
   "execution_count": 10,
   "source": [
    "paths = train_df_updated['FullPath']\n",
    "labels = train_df_updated['Class']\n",
    "\n",
    "print(f\"label, path example: \\nlabel: {labels[0]}\\npath: {paths[0]}\")"
   ],
   "outputs": [
    {
     "output_type": "stream",
     "name": "stdout",
     "text": [
      "label, path example: \n",
      "label: 4\n",
      "path: C:/user/images/000001_female_Asian_45/mask1.jpg\n"
     ]
    }
   ],
   "metadata": {}
  },
  {
   "cell_type": "markdown",
   "source": [
    "<br><br>\n",
    "## 칼럼\n",
    "---\n",
    "* 기본 데이터\n",
    "    * 원본 데이터(from train.csv)\n",
    "        * gender\n",
    "        * race\n",
    "        * age\n",
    "        * path\n",
    "    * 파일명\n",
    "        * file - path 내의 파일이름(확장자 포함)\n",
    "* 추가 데이터\n",
    "    * Path - 이미지파일 폴더 및 이미지파일 경로(ex. 000002_female_Asian_52/mask.jpg) \n",
    "    * FullPath - 이미지 파일 full path\n",
    "    * Mask \n",
    "    * Age \n",
    "    * Gender\n",
    "    * Class (Competition 18개 class) \n",
    "    * ClassMask (Mask 독립 class)\n",
    "    * ClassGender (Gender 독립 class)\n",
    "    * ClassAge (Age 독립 Class)"
   ],
   "metadata": {}
  },
  {
   "cell_type": "code",
   "execution_count": 11,
   "source": [
    "train_df.columns"
   ],
   "outputs": [
    {
     "output_type": "execute_result",
     "data": {
      "text/plain": [
       "Index(['id', 'gender', 'race', 'age', 'path', 'file', 'FullPath', 'Path',\n",
       "       'Mask', 'Age', 'Gender', 'Class', 'ClassMask', 'ClassGender',\n",
       "       'ClassAge'],\n",
       "      dtype='object')"
      ]
     },
     "metadata": {},
     "execution_count": 11
    }
   ],
   "metadata": {}
  },
  {
   "cell_type": "code",
   "execution_count": 12,
   "source": [
    "train_df[['Mask', 'Age', 'Gender', 'Class', 'ClassMask', 'ClassGender', 'ClassAge']].head(5)"
   ],
   "outputs": [
    {
     "output_type": "execute_result",
     "data": {
      "text/plain": [
       "   Mask             Age  Gender  Class  ClassMask  ClassGender  ClassAge\n",
       "0  Wear  >= 30 and < 60  Female      4          0            1         1\n",
       "1  Wear  >= 30 and < 60  Female      4          0            1         1\n",
       "2  Wear  >= 30 and < 60  Female      4          0            1         1\n",
       "3  Wear  >= 30 and < 60  Female      4          0            1         1\n",
       "4  Wear  >= 30 and < 60  Female      4          0            1         1"
      ],
      "text/html": [
       "<div>\n",
       "<style scoped>\n",
       "    .dataframe tbody tr th:only-of-type {\n",
       "        vertical-align: middle;\n",
       "    }\n",
       "\n",
       "    .dataframe tbody tr th {\n",
       "        vertical-align: top;\n",
       "    }\n",
       "\n",
       "    .dataframe thead th {\n",
       "        text-align: right;\n",
       "    }\n",
       "</style>\n",
       "<table border=\"1\" class=\"dataframe\">\n",
       "  <thead>\n",
       "    <tr style=\"text-align: right;\">\n",
       "      <th></th>\n",
       "      <th>Mask</th>\n",
       "      <th>Age</th>\n",
       "      <th>Gender</th>\n",
       "      <th>Class</th>\n",
       "      <th>ClassMask</th>\n",
       "      <th>ClassGender</th>\n",
       "      <th>ClassAge</th>\n",
       "    </tr>\n",
       "  </thead>\n",
       "  <tbody>\n",
       "    <tr>\n",
       "      <th>0</th>\n",
       "      <td>Wear</td>\n",
       "      <td>&gt;= 30 and &lt; 60</td>\n",
       "      <td>Female</td>\n",
       "      <td>4</td>\n",
       "      <td>0</td>\n",
       "      <td>1</td>\n",
       "      <td>1</td>\n",
       "    </tr>\n",
       "    <tr>\n",
       "      <th>1</th>\n",
       "      <td>Wear</td>\n",
       "      <td>&gt;= 30 and &lt; 60</td>\n",
       "      <td>Female</td>\n",
       "      <td>4</td>\n",
       "      <td>0</td>\n",
       "      <td>1</td>\n",
       "      <td>1</td>\n",
       "    </tr>\n",
       "    <tr>\n",
       "      <th>2</th>\n",
       "      <td>Wear</td>\n",
       "      <td>&gt;= 30 and &lt; 60</td>\n",
       "      <td>Female</td>\n",
       "      <td>4</td>\n",
       "      <td>0</td>\n",
       "      <td>1</td>\n",
       "      <td>1</td>\n",
       "    </tr>\n",
       "    <tr>\n",
       "      <th>3</th>\n",
       "      <td>Wear</td>\n",
       "      <td>&gt;= 30 and &lt; 60</td>\n",
       "      <td>Female</td>\n",
       "      <td>4</td>\n",
       "      <td>0</td>\n",
       "      <td>1</td>\n",
       "      <td>1</td>\n",
       "    </tr>\n",
       "    <tr>\n",
       "      <th>4</th>\n",
       "      <td>Wear</td>\n",
       "      <td>&gt;= 30 and &lt; 60</td>\n",
       "      <td>Female</td>\n",
       "      <td>4</td>\n",
       "      <td>0</td>\n",
       "      <td>1</td>\n",
       "      <td>1</td>\n",
       "    </tr>\n",
       "  </tbody>\n",
       "</table>\n",
       "</div>"
      ]
     },
     "metadata": {},
     "execution_count": 12
    }
   ],
   "metadata": {}
  },
  {
   "cell_type": "markdown",
   "source": [
    "<br><br>\n",
    "## Label 변경\n",
    "---"
   ],
   "metadata": {}
  },
  {
   "cell_type": "code",
   "execution_count": 24,
   "source": [
    "\"\"\"\n",
    "ClassAge 예시\n",
    "    변경 전\n",
    "        < 30 : 0\n",
    "        >= 30 and < 60 : 1\n",
    "        >= 60 : 2\n",
    "    변경 후 \n",
    "        < 20 : 0\n",
    "        >= 20 and < 40 : 1\n",
    "        >= 40 and < 60 : 2\n",
    "        >= 60 : 3\n",
    "\"\"\"\n",
    "age_modified = train_df.copy()\n",
    "\n",
    "label_0 = age_modified['age'] < 20\n",
    "label_1 = (age_modified['age'] >= 20) & (age_modified['age'] < 40)\n",
    "label_2 = (age_modified['age'] >= 40) & (age_modified['age'] < 60)\n",
    "label_3 = age_modified['age'] >= 60\n",
    "\n",
    "age_modified.loc[label_0, 'ClassAge'] = 0\n",
    "age_modified.loc[label_1, 'ClassAge'] = 1\n",
    "age_modified.loc[label_2, 'ClassAge'] = 2\n",
    "age_modified.loc[label_3, 'ClassAge'] = 3"
   ],
   "outputs": [],
   "metadata": {}
  },
  {
   "cell_type": "code",
   "execution_count": 25,
   "source": [
    "\"\"\"\n",
    "변경된 ClassAge 반영하여 전체 Class 업데이트(필요한 경우)\n",
    "\"\"\"\n",
    "def update_class_value(train_df):\n",
    "    train_df = train_df.copy()\n",
    "\n",
    "    num_age_labels = train_df['ClassAge'].unique().size\n",
    "    num_gender_labels = train_df['ClassGender'].unique().size\n",
    "    num_mask_labels = train_df['ClassMask'].unique().size\n",
    "\n",
    "    train_df['Class'] = train_df['ClassAge'] + \\\n",
    "                        num_age_labels*train_df['ClassGender'] + \\\n",
    "                        (num_age_labels*num_gender_labels)*train_df['ClassMask']\n",
    "\n",
    "    return train_df"
   ],
   "outputs": [],
   "metadata": {}
  },
  {
   "cell_type": "code",
   "execution_count": 27,
   "source": [
    "age_modified = update_class_value(age_modified)\n",
    "age_modified['Class'].unique().size # 3 x 2 x 4 = 24"
   ],
   "outputs": [
    {
     "output_type": "execute_result",
     "data": {
      "text/plain": [
       "24"
      ]
     },
     "metadata": {},
     "execution_count": 27
    }
   ],
   "metadata": {}
  },
  {
   "cell_type": "markdown",
   "source": [
    "<br><br>\n",
    "## DataSet 예시\n",
    "---\n",
    "두가지 방법을 고려할 수 있습니다.\\\n",
    "1. train_df 자체를 넘겨주기\n",
    "2. path 및 label을 넘겨주기 - 일반적인 경우?"
   ],
   "metadata": {}
  },
  {
   "cell_type": "code",
   "execution_count": 16,
   "source": [
    "from torch.utils.data import Dataset"
   ],
   "outputs": [],
   "metadata": {}
  },
  {
   "cell_type": "markdown",
   "source": [
    "- 이 경우, subsample을 Dataset 수준에서 쉽게 뽑아낼 수 있습니다."
   ],
   "metadata": {}
  },
  {
   "cell_type": "code",
   "execution_count": 32,
   "source": [
    "\n"
   ],
   "outputs": [
    {
     "output_type": "stream",
     "name": "stdout",
     "text": [
      "# of labels\n",
      "before : 24\n",
      "after : 16\n",
      "[ 0  1  2  3  4  5  6  7  8  9 10 11 12 13 14 15]\n"
     ]
    }
   ],
   "metadata": {}
  }
 ],
 "metadata": {
  "orig_nbformat": 4,
  "language_info": {
   "name": "python",
   "version": "3.8.5",
   "mimetype": "text/x-python",
   "codemirror_mode": {
    "name": "ipython",
    "version": 3
   },
   "pygments_lexer": "ipython3",
   "nbconvert_exporter": "python",
   "file_extension": ".py"
  },
  "kernelspec": {
   "name": "python3",
   "display_name": "Python 3.8.5 64-bit ('base': conda)"
  },
  "interpreter": {
   "hash": "98b0a9b7b4eaaa670588a142fd0a9b87eaafe866f1db4228be72b4211d12040f"
  }
 },
 "nbformat": 4,
 "nbformat_minor": 2
}