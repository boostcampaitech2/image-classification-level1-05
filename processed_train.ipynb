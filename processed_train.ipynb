{
 "cells": [
  {
   "cell_type": "code",
   "execution_count": 5,
   "source": [
    "import pandas as pd\n",
    "import numpy as np"
   ],
   "outputs": [],
   "metadata": {}
  },
  {
   "cell_type": "code",
   "execution_count": 6,
   "source": [
    "train_df = pd.read_csv('processed_train.csv', header=0)"
   ],
   "outputs": [],
   "metadata": {}
  },
  {
   "cell_type": "markdown",
   "source": [
    "<br><br>\n",
    "## 경로 및 라벨 추출\n",
    "---"
   ],
   "metadata": {}
  },
  {
   "cell_type": "code",
   "execution_count": 7,
   "source": [
    "paths = train_df['FullPath']\n",
    "labels = train_df['Class']\n",
    "\n",
    "print(f\"label, path example: \\nlabel: {labels[0]}\\npath: {paths[0]}\")"
   ],
   "outputs": [
    {
     "output_type": "stream",
     "name": "stdout",
     "text": [
      "label, path example: \n",
      "label: 4\n",
      "path: /opt/ml/input/data/train/images/000001_female_Asian_45/mask1.jpg\n"
     ]
    }
   ],
   "metadata": {}
  },
  {
   "cell_type": "markdown",
   "source": [
    "<br><br>\n",
    "## 경로 변경\n",
    "---\n",
    "- 훈련 데이터의 이미지 폴더가 /opt/ml/input/data/train/images가 아닌 경우"
   ],
   "metadata": {}
  },
  {
   "cell_type": "code",
   "execution_count": 8,
   "source": [
    "from pathlib import Path"
   ],
   "outputs": [],
   "metadata": {}
  },
  {
   "cell_type": "code",
   "execution_count": 9,
   "source": [
    "def update_full_path(train_df, dir_images):\n",
    "    train_df = train_df.copy()\n",
    "    \n",
    "    train_df['FullPath'] = str(Path(dir_images)) + '/'\n",
    "    train_df['FullPath'] = train_df['FullPath'].str.cat(train_df['Path'])\n",
    "\n",
    "    return train_df\n",
    "\n",
    "dir_images = 'C://user/images'\n",
    "train_df_updated = update_full_path(train_df, dir_images)"
   ],
   "outputs": [],
   "metadata": {}
  },
  {
   "cell_type": "code",
   "execution_count": 10,
   "source": [
    "paths = train_df_updated['FullPath']\n",
    "labels = train_df_updated['Class']\n",
    "\n",
    "print(f\"label, path example: \\nlabel: {labels[0]}\\npath: {paths[0]}\")"
   ],
   "outputs": [
    {
     "output_type": "stream",
     "name": "stdout",
     "text": [
      "label, path example: \n",
      "label: 4\n",
      "path: C:/user/images/000001_female_Asian_45/mask1.jpg\n"
     ]
    }
   ],
   "metadata": {}
  },
  {
   "cell_type": "markdown",
   "source": [
    "<br><br>\n",
    "## 칼럼\n",
    "---\n",
    "* 기본 데이터\n",
    "    * 원본 데이터(from train.csv)\n",
    "        * gender\n",
    "        * race\n",
    "        * age\n",
    "        * path\n",
    "    * 파일명\n",
    "        * file - path 내의 파일이름(확장자 포함)\n",
    "* 추가 데이터\n",
    "    * Path - 이미지파일 폴더 및 이미지파일 경로(ex. 000002_female_Asian_52/mask.jpg) \n",
    "    * FullPath - 이미지 파일 full path\n",
    "    * Mask \n",
    "    * Age \n",
    "    * Gender\n",
    "    * Class (Competition 18개 class) \n",
    "    * ClassMask (Mask 독립 class)\n",
    "    * ClassGender (Gender 독립 class)\n",
    "    * ClassAge (Age 독립 Class)"
   ],
   "metadata": {}
  },
  {
   "cell_type": "code",
   "execution_count": 11,
   "source": [
    "train_df.columns"
   ],
   "outputs": [
    {
     "output_type": "execute_result",
     "data": {
      "text/plain": [
       "Index(['id', 'gender', 'race', 'age', 'path', 'file', 'FullPath', 'Path',\n",
       "       'Mask', 'Age', 'Gender', 'Class', 'ClassMask', 'ClassGender',\n",
       "       'ClassAge'],\n",
       "      dtype='object')"
      ]
     },
     "metadata": {},
     "execution_count": 11
    }
   ],
   "metadata": {}
  },
  {
   "cell_type": "code",
   "execution_count": 12,
   "source": [
    "train_df[['Mask', 'Age', 'Gender', 'Class', 'ClassMask', 'ClassGender', 'ClassAge']].head(5)"
   ],
   "outputs": [
    {
     "output_type": "execute_result",
     "data": {
      "text/plain": [
       "   Mask             Age  Gender  Class  ClassMask  ClassGender  ClassAge\n",
       "0  Wear  >= 30 and < 60  Female      4          0            1         1\n",
       "1  Wear  >= 30 and < 60  Female      4          0            1         1\n",
       "2  Wear  >= 30 and < 60  Female      4          0            1         1\n",
       "3  Wear  >= 30 and < 60  Female      4          0            1         1\n",
       "4  Wear  >= 30 and < 60  Female      4          0            1         1"
      ],
      "text/html": [
       "<div>\n",
       "<style scoped>\n",
       "    .dataframe tbody tr th:only-of-type {\n",
       "        vertical-align: middle;\n",
       "    }\n",
       "\n",
       "    .dataframe tbody tr th {\n",
       "        vertical-align: top;\n",
       "    }\n",
       "\n",
       "    .dataframe thead th {\n",
       "        text-align: right;\n",
       "    }\n",
       "</style>\n",
       "<table border=\"1\" class=\"dataframe\">\n",
       "  <thead>\n",
       "    <tr style=\"text-align: right;\">\n",
       "      <th></th>\n",
       "      <th>Mask</th>\n",
       "      <th>Age</th>\n",
       "      <th>Gender</th>\n",
       "      <th>Class</th>\n",
       "      <th>ClassMask</th>\n",
       "      <th>ClassGender</th>\n",
       "      <th>ClassAge</th>\n",
       "    </tr>\n",
       "  </thead>\n",
       "  <tbody>\n",
       "    <tr>\n",
       "      <th>0</th>\n",
       "      <td>Wear</td>\n",
       "      <td>&gt;= 30 and &lt; 60</td>\n",
       "      <td>Female</td>\n",
       "      <td>4</td>\n",
       "      <td>0</td>\n",
       "      <td>1</td>\n",
       "      <td>1</td>\n",
       "    </tr>\n",
       "    <tr>\n",
       "      <th>1</th>\n",
       "      <td>Wear</td>\n",
       "      <td>&gt;= 30 and &lt; 60</td>\n",
       "      <td>Female</td>\n",
       "      <td>4</td>\n",
       "      <td>0</td>\n",
       "      <td>1</td>\n",
       "      <td>1</td>\n",
       "    </tr>\n",
       "    <tr>\n",
       "      <th>2</th>\n",
       "      <td>Wear</td>\n",
       "      <td>&gt;= 30 and &lt; 60</td>\n",
       "      <td>Female</td>\n",
       "      <td>4</td>\n",
       "      <td>0</td>\n",
       "      <td>1</td>\n",
       "      <td>1</td>\n",
       "    </tr>\n",
       "    <tr>\n",
       "      <th>3</th>\n",
       "      <td>Wear</td>\n",
       "      <td>&gt;= 30 and &lt; 60</td>\n",
       "      <td>Female</td>\n",
       "      <td>4</td>\n",
       "      <td>0</td>\n",
       "      <td>1</td>\n",
       "      <td>1</td>\n",
       "    </tr>\n",
       "    <tr>\n",
       "      <th>4</th>\n",
       "      <td>Wear</td>\n",
       "      <td>&gt;= 30 and &lt; 60</td>\n",
       "      <td>Female</td>\n",
       "      <td>4</td>\n",
       "      <td>0</td>\n",
       "      <td>1</td>\n",
       "      <td>1</td>\n",
       "    </tr>\n",
       "  </tbody>\n",
       "</table>\n",
       "</div>"
      ]
     },
     "metadata": {},
     "execution_count": 12
    }
   ],
   "metadata": {}
  },
  {
   "cell_type": "markdown",
   "source": [
    "<br><br>\n",
    "## Label 변경\n",
    "---"
   ],
   "metadata": {}
  },
  {
   "cell_type": "code",
   "execution_count": 24,
   "source": [
    "\"\"\"\n",
    "ClassAge 예시\n",
    "    변경 전\n",
    "        < 30 : 0\n",
    "        >= 30 and < 60 : 1\n",
    "        >= 60 : 2\n",
    "    변경 후 \n",
    "        < 20 : 0\n",
    "        >= 20 and < 40 : 1\n",
    "        >= 40 and < 60 : 2\n",
    "        >= 60 : 3\n",
    "\"\"\"\n",
    "age_modified = train_df.copy()\n",
    "\n",
    "label_0 = age_modified['age'] < 20\n",
    "label_1 = (age_modified['age'] >= 20) & (age_modified['age'] < 40)\n",
    "label_2 = (age_modified['age'] >= 40) & (age_modified['age'] < 60)\n",
    "label_3 = age_modified['age'] >= 60\n",
    "\n",
    "age_modified.loc[label_0, 'ClassAge'] = 0\n",
    "age_modified.loc[label_1, 'ClassAge'] = 1\n",
    "age_modified.loc[label_2, 'ClassAge'] = 2\n",
    "age_modified.loc[label_3, 'ClassAge'] = 3"
   ],
   "outputs": [],
   "metadata": {}
  },
  {
   "cell_type": "code",
   "execution_count": 25,
   "source": [
    "\"\"\"\n",
    "변경된 ClassAge 반영하여 전체 Class 업데이트(필요한 경우)\n",
    "\"\"\"\n",
    "def update_class_value(train_df):\n",
    "    train_df = train_df.copy()\n",
    "\n",
    "    num_age_labels = train_df['ClassAge'].unique().size\n",
    "    num_gender_labels = train_df['ClassGender'].unique().size\n",
    "    num_mask_labels = train_df['ClassMask'].unique().size\n",
    "\n",
    "    train_df['Class'] = train_df['ClassAge'] + \\\n",
    "                        num_age_labels*train_df['ClassGender'] + \\\n",
    "                        (num_age_labels*num_gender_labels)*train_df['ClassMask']\n",
    "\n",
    "    return train_df"
   ],
   "outputs": [],
   "metadata": {}
  },
  {
   "cell_type": "code",
   "execution_count": 27,
   "source": [
    "age_modified = update_class_value(age_modified)\n",
    "age_modified['Class'].unique().size # 3 x 2 x 4 = 24"
   ],
   "outputs": [
    {
     "output_type": "execute_result",
     "data": {
      "text/plain": [
       "24"
      ]
     },
     "metadata": {},
     "execution_count": 27
    }
   ],
   "metadata": {}
  },
  {
   "cell_type": "markdown",
   "source": [
    "<br><br>\n",
    "## DataSet 예시\n",
    "---\n",
    "두가지 방법을 고려할 수 있습니다.\\\n",
    "1. train_df 자체를 넘겨주기\n",
    "2. path 및 label을 넘겨주기 - 일반적인 경우?"
   ],
   "metadata": {}
  },
  {
   "cell_type": "code",
   "execution_count": 16,
   "source": [
    "from torch.utils.data import Dataset"
   ],
   "outputs": [],
   "metadata": {}
  },
  {
   "cell_type": "code",
   "execution_count": 28,
   "source": [
    "# Case1\n",
    "class MaskClassifierDataset(Dataset):\n",
    "\n",
    "    def __init__(self, data_df, label_column='Class', transform=None):\n",
    "        self.data_df = data_df\n",
    "        self.transform = transform\n",
    "        self.label_column = label_column\n",
    "\n",
    "    def __len__(self):\n",
    "        return self.data_df.index.size\n",
    "\n",
    "    def __getitem__(self, index):\n",
    "        _item = self.data_df.iloc[index]\n",
    "\n",
    "        image = Image.open(_item['FullPath'])\n",
    "        label = _item[self.label_column]\n",
    "\n",
    "        if self.transform:\n",
    "            image = self.transform(image)\n",
    "\n",
    "        return (image, label)"
   ],
   "outputs": [],
   "metadata": {}
  },
  {
   "cell_type": "markdown",
   "source": [
    "- 이 경우, subsample을 Dataset 수준에서 쉽게 뽑아낼 수 있습니다."
   ],
   "metadata": {}
  },
  {
   "cell_type": "code",
   "execution_count": 32,
   "source": [
    "# Mask 착용 데이터만 추출하기\n",
    "mask_df = train_df[train_df['Mask'].isin(['Wear', 'Incorrect'])]\n",
    "mask_df = update_class_value(mask_df)\n",
    "\n",
    "print(f\"# of labels\")\n",
    "print(f\"before : {train_df['Class'].unique().size}\")\n",
    "print(f\"after : {mask_df['Class'].unique().size}\")\n",
    "\n",
    "labels = mask_df.Class.unique()\n",
    "labels.sort()\n",
    "print(labels)\n",
    "\n",
    "dataset = MaskClassifierDataset(mask_df)\n"
   ],
   "outputs": [
    {
     "output_type": "stream",
     "name": "stdout",
     "text": [
      "# of labels\n",
      "before : 24\n",
      "after : 16\n",
      "[ 0  1  2  3  4  5  6  7  8  9 10 11 12 13 14 15]\n"
     ]
    }
   ],
   "metadata": {}
  },
  {
   "cell_type": "code",
   "execution_count": 33,
   "source": [
    "# Case2\n",
    "class MaskClassifierDataset(Dataset):\n",
    "\n",
    "    def __init__(self, paths, labels, transform=None):\n",
    "        self.paths = paths\n",
    "        self.labels = labels\n",
    "        self.transform = transform\n",
    "\n",
    "    def __len__(self):\n",
    "        return self.paths.size\n",
    "\n",
    "    def __getitem__(self, index):\n",
    "        image = Image.open(self.paths[index])\n",
    "        label = self.labels[index]\n",
    "\n",
    "        if self.transform:\n",
    "            image = self.transform(image)\n",
    "\n",
    "        return (image, label)"
   ],
   "outputs": [],
   "metadata": {}
  },
  {
   "cell_type": "code",
   "execution_count": null,
   "source": [
    "paths = train_df['FullPath']\n",
    "labels = train_df['Class']\n",
    "dataset = MaskClassifierDataset(paths, labels)\n"
   ],
   "outputs": [],
   "metadata": {}
  }
 ],
 "metadata": {
  "orig_nbformat": 4,
  "language_info": {
   "name": "python",
   "version": "3.8.5",
   "mimetype": "text/x-python",
   "codemirror_mode": {
    "name": "ipython",
    "version": 3
   },
   "pygments_lexer": "ipython3",
   "nbconvert_exporter": "python",
   "file_extension": ".py"
  },
  "kernelspec": {
   "name": "python3",
   "display_name": "Python 3.8.5 64-bit ('base': conda)"
  },
  "interpreter": {
   "hash": "98b0a9b7b4eaaa670588a142fd0a9b87eaafe866f1db4228be72b4211d12040f"
  }
 },
 "nbformat": 4,
 "nbformat_minor": 2
}