{
 "cells": [
  {
   "cell_type": "code",
   "execution_count": 1,
   "source": [
    "import dataset\n",
    "import pandas as pd\n",
    "import numpy as np\n",
    "from tqdm import tqdm"
   ],
   "outputs": [],
   "metadata": {}
  },
  {
   "cell_type": "code",
   "execution_count": 2,
   "source": [
    "data_info = dataset.TrainInfo()\n",
    "train_df, valid_df, dist_df = data_info.split_dataset(val_size=0.2)\n",
    "\n",
    "dist_df"
   ],
   "outputs": [
    {
     "output_type": "execute_result",
     "data": {
      "text/plain": [
       "                      origin            train           valid          \n",
       "                       Count     Ratio  Count     Ratio Count     Ratio\n",
       "Age    < 30             8967  0.474444   7252  0.479630  1715  0.453704\n",
       "       >= 30 and < 60   8589  0.454444   6832  0.451852  1757  0.464815\n",
       "       >= 60            1344  0.071111   1036  0.068519   308  0.081481\n",
       "Gender Female          11564  0.611852   9303  0.615278  2261  0.598148\n",
       "       Male             7336  0.388148   5817  0.384722  1519  0.401852\n",
       "Mask   Incorrect        2700  0.142857   2160  0.142857   540  0.142857\n",
       "       Not Wear         2700  0.142857   2160  0.142857   540  0.142857\n",
       "       Wear            13500  0.714286  10800  0.714286  2700  0.714286"
      ],
      "text/html": [
       "<div>\n",
       "<style scoped>\n",
       "    .dataframe tbody tr th:only-of-type {\n",
       "        vertical-align: middle;\n",
       "    }\n",
       "\n",
       "    .dataframe tbody tr th {\n",
       "        vertical-align: top;\n",
       "    }\n",
       "\n",
       "    .dataframe thead tr th {\n",
       "        text-align: left;\n",
       "    }\n",
       "</style>\n",
       "<table border=\"1\" class=\"dataframe\">\n",
       "  <thead>\n",
       "    <tr>\n",
       "      <th></th>\n",
       "      <th></th>\n",
       "      <th colspan=\"2\" halign=\"left\">origin</th>\n",
       "      <th colspan=\"2\" halign=\"left\">train</th>\n",
       "      <th colspan=\"2\" halign=\"left\">valid</th>\n",
       "    </tr>\n",
       "    <tr>\n",
       "      <th></th>\n",
       "      <th></th>\n",
       "      <th>Count</th>\n",
       "      <th>Ratio</th>\n",
       "      <th>Count</th>\n",
       "      <th>Ratio</th>\n",
       "      <th>Count</th>\n",
       "      <th>Ratio</th>\n",
       "    </tr>\n",
       "  </thead>\n",
       "  <tbody>\n",
       "    <tr>\n",
       "      <th rowspan=\"3\" valign=\"top\">Age</th>\n",
       "      <th>&lt; 30</th>\n",
       "      <td>8967</td>\n",
       "      <td>0.474444</td>\n",
       "      <td>7252</td>\n",
       "      <td>0.479630</td>\n",
       "      <td>1715</td>\n",
       "      <td>0.453704</td>\n",
       "    </tr>\n",
       "    <tr>\n",
       "      <th>&gt;= 30 and &lt; 60</th>\n",
       "      <td>8589</td>\n",
       "      <td>0.454444</td>\n",
       "      <td>6832</td>\n",
       "      <td>0.451852</td>\n",
       "      <td>1757</td>\n",
       "      <td>0.464815</td>\n",
       "    </tr>\n",
       "    <tr>\n",
       "      <th>&gt;= 60</th>\n",
       "      <td>1344</td>\n",
       "      <td>0.071111</td>\n",
       "      <td>1036</td>\n",
       "      <td>0.068519</td>\n",
       "      <td>308</td>\n",
       "      <td>0.081481</td>\n",
       "    </tr>\n",
       "    <tr>\n",
       "      <th rowspan=\"2\" valign=\"top\">Gender</th>\n",
       "      <th>Female</th>\n",
       "      <td>11564</td>\n",
       "      <td>0.611852</td>\n",
       "      <td>9303</td>\n",
       "      <td>0.615278</td>\n",
       "      <td>2261</td>\n",
       "      <td>0.598148</td>\n",
       "    </tr>\n",
       "    <tr>\n",
       "      <th>Male</th>\n",
       "      <td>7336</td>\n",
       "      <td>0.388148</td>\n",
       "      <td>5817</td>\n",
       "      <td>0.384722</td>\n",
       "      <td>1519</td>\n",
       "      <td>0.401852</td>\n",
       "    </tr>\n",
       "    <tr>\n",
       "      <th rowspan=\"3\" valign=\"top\">Mask</th>\n",
       "      <th>Incorrect</th>\n",
       "      <td>2700</td>\n",
       "      <td>0.142857</td>\n",
       "      <td>2160</td>\n",
       "      <td>0.142857</td>\n",
       "      <td>540</td>\n",
       "      <td>0.142857</td>\n",
       "    </tr>\n",
       "    <tr>\n",
       "      <th>Not Wear</th>\n",
       "      <td>2700</td>\n",
       "      <td>0.142857</td>\n",
       "      <td>2160</td>\n",
       "      <td>0.142857</td>\n",
       "      <td>540</td>\n",
       "      <td>0.142857</td>\n",
       "    </tr>\n",
       "    <tr>\n",
       "      <th>Wear</th>\n",
       "      <td>13500</td>\n",
       "      <td>0.714286</td>\n",
       "      <td>10800</td>\n",
       "      <td>0.714286</td>\n",
       "      <td>2700</td>\n",
       "      <td>0.714286</td>\n",
       "    </tr>\n",
       "  </tbody>\n",
       "</table>\n",
       "</div>"
      ]
     },
     "metadata": {},
     "execution_count": 2
    }
   ],
   "metadata": {}
  },
  {
   "cell_type": "code",
   "execution_count": 3,
   "source": [
    "from tqdm import tqdm\n",
    "train_set = dataset.MaskBaseDataset(train_df)\n",
    "valid_set = dataset.MaskBaseDataset(valid_df)"
   ],
   "outputs": [
    {
     "output_type": "stream",
     "name": "stderr",
     "text": [
      "  0%|          | 7/15120 [00:00<03:48, 66.18it/s]"
     ]
    },
    {
     "output_type": "stream",
     "name": "stdout",
     "text": [
      "Calculating statistics... This might take a while\n"
     ]
    },
    {
     "output_type": "stream",
     "name": "stderr",
     "text": [
      "100%|██████████| 15120/15120 [03:24<00:00, 73.78it/s]\n",
      "  0%|          | 8/3780 [00:00<00:50, 74.06it/s]"
     ]
    },
    {
     "output_type": "stream",
     "name": "stdout",
     "text": [
      "Calculating statistics... This might take a while\n"
     ]
    },
    {
     "output_type": "stream",
     "name": "stderr",
     "text": [
      "100%|██████████| 3780/3780 [00:50<00:00, 74.39it/s]\n"
     ]
    }
   ],
   "metadata": {}
  },
  {
   "cell_type": "code",
   "execution_count": null,
   "source": [],
   "outputs": [],
   "metadata": {}
  },
  {
   "cell_type": "code",
   "execution_count": 4,
   "source": [
    "import argparse\n",
    "import json\n",
    "import multiprocessing\n",
    "import os\n",
    "from importlib import import_module\n",
    "\n",
    "import torch\n",
    "from torch.optim.lr_scheduler import StepLR\n",
    "from torch.utils.data import DataLoader\n",
    "from torch.utils.tensorboard import SummaryWriter\n",
    "from sklearn.metrics import f1_score\n",
    "from torchvision import models\n",
    "\n",
    "import matplotlib.pyplot as plt\n",
    "import numpy as np\n",
    "from tqdm import tqdm\n",
    "\n",
    "from loss import get_criterion\n",
    "import settings\n",
    "import logger\n",
    "\n",
    "\n",
    "def train(helper):\n",
    "    args = helper.args\n",
    "    device = helper.device"
   ],
   "outputs": [],
   "metadata": {}
  },
  {
   "cell_type": "code",
   "execution_count": 5,
   "source": [],
   "outputs": [
    {
     "output_type": "stream",
     "name": "stderr",
     "text": [
      "usage: ipykernel_launcher.py [-h] [--data_dir DATA_DIR]\n",
      "                             [--model_dir MODEL_DIR] [--seed SEED]\n",
      "                             [--epochs EPOCHS] [--dataset DATASET]\n",
      "                             [--transform TRANSFORM]\n",
      "                             [--resize RESIZE [RESIZE ...]]\n",
      "                             [--batch_size BATCH_SIZE]\n",
      "                             [--val_batch_size VAL_BATCH_SIZE] [--model MODEL]\n",
      "                             [--optimizer OPTIMIZER] [--lr LR]\n",
      "                             [--val_ratio VAL_RATIO] [--criterion CRITERION]\n",
      "                             [--lr_decay_step LR_DECAY_STEP]\n",
      "                             [--log_interval LOG_INTERVAL] [--name NAME]\n",
      "                             [--mode MODE] [--model_name MODEL_NAME]\n",
      "                             [--freeze FREEZE [FREEZE ...]] [--dump DUMP]\n",
      "ipykernel_launcher.py: error: unrecognized arguments: --ip=127.0.0.1 --stdin=9003 --control=9001 --hb=9000 --Session.signature_scheme=\"hmac-sha256\" --Session.key=b\"da4db37b-971b-4c03-b0ef-3a022eea0d60\" --shell=9002 --transport=\"tcp\" --iopub=9004\n"
     ]
    },
    {
     "output_type": "error",
     "ename": "SystemExit",
     "evalue": "2",
     "traceback": [
      "An exception has occurred, use %tb to see the full traceback.\n",
      "\u001b[0;31mSystemExit\u001b[0m\u001b[0;31m:\u001b[0m 2\n"
     ]
    },
    {
     "output_type": "stream",
     "name": "stderr",
     "text": [
      "/opt/conda/lib/python3.8/site-packages/IPython/core/interactiveshell.py:3426: UserWarning: To exit: use 'exit', 'quit', or Ctrl-D.\n",
      "  warn(\"To exit: use 'exit', 'quit', or Ctrl-D.\", stacklevel=1)\n"
     ]
    }
   ],
   "metadata": {}
  },
  {
   "cell_type": "code",
   "execution_count": null,
   "source": [],
   "outputs": [],
   "metadata": {}
  }
 ],
 "metadata": {
  "orig_nbformat": 4,
  "language_info": {
   "name": "python",
   "version": "3.8.5",
   "mimetype": "text/x-python",
   "codemirror_mode": {
    "name": "ipython",
    "version": 3
   },
   "pygments_lexer": "ipython3",
   "nbconvert_exporter": "python",
   "file_extension": ".py"
  },
  "kernelspec": {
   "name": "python3",
   "display_name": "Python 3.8.5 64-bit ('base': conda)"
  },
  "interpreter": {
   "hash": "98b0a9b7b4eaaa670588a142fd0a9b87eaafe866f1db4228be72b4211d12040f"
  }
 },
 "nbformat": 4,
 "nbformat_minor": 2
}